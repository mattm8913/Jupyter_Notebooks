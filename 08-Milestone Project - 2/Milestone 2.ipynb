{
 "cells": [
  {
   "cell_type": "markdown",
   "id": "9b421e82",
   "metadata": {},
   "source": [
    "# Classes"
   ]
  },
  {
   "cell_type": "code",
   "execution_count": 127,
   "id": "46bb4099",
   "metadata": {},
   "outputs": [],
   "source": [
    "# We'll use this later\n",
    "import random "
   ]
  },
  {
   "cell_type": "code",
   "execution_count": 128,
   "id": "511e3b8a",
   "metadata": {},
   "outputs": [],
   "source": [
    "suits = ('Hearts', 'Diamonds', 'Spades', 'Clubs')\n",
    "ranks = ('Two', 'Three', 'Four', 'Five', 'Six', 'Seven', 'Eight', 'Nine', 'Ten', 'Jack', 'Queen', 'King', 'Ace')\n",
    "values = {'Two':[2], 'Three':[3], 'Four':[4], 'Five':[5], 'Six':[6], 'Seven':[7], 'Eight':[8], \n",
    "            'Nine':[9], 'Ten':[10], 'Jack':[10], 'Queen':[10], 'King':[10], 'Ace':[11,1]}"
   ]
  },
  {
   "cell_type": "code",
   "execution_count": 129,
   "id": "76a10aa3",
   "metadata": {},
   "outputs": [],
   "source": [
    "class Card:\n",
    "    \n",
    "    def __init__(self, suit, rank):\n",
    "        self.suit = suit\n",
    "        self.rank = rank\n",
    "        self.value = values[rank][0]\n",
    "    \n",
    "    def __str__(self):\n",
    "        return self.rank + ' of ' + self.suit\n"
   ]
  },
  {
   "cell_type": "code",
   "execution_count": 130,
   "id": "f6a806ec",
   "metadata": {},
   "outputs": [
    {
     "name": "stdout",
     "output_type": "stream",
     "text": [
      "2\n"
     ]
    }
   ],
   "source": [
    "two_hearts=Card(suits[0],ranks[0])\n",
    "print(two_hearts.value)"
   ]
  },
  {
   "cell_type": "code",
   "execution_count": 131,
   "id": "fde1706f",
   "metadata": {},
   "outputs": [],
   "source": [
    "class Deck:\n",
    "    \n",
    "    def __init__(self):\n",
    "        self.all_cards = []\n",
    "        for suit in suits:\n",
    "            for rank in ranks:\n",
    "                self.all_cards.append(Card(suit,rank))\n",
    "    \n",
    "    def shuffle(self):\n",
    "        random.shuffle(self.all_cards)\n",
    "        \n",
    "    def deal_one(self):\n",
    "        return self.all_cards.pop()\n",
    "    \n",
    "    def add_cards(self,new_cards):\n",
    "        if type(new_cards) == type([]):\n",
    "            self.all_cards.extend(new_cards)\n",
    "        else:\n",
    "            self.all_cards.append(new_cards)"
   ]
  },
  {
   "cell_type": "code",
   "execution_count": 132,
   "id": "4459d348",
   "metadata": {},
   "outputs": [],
   "source": [
    "class Account:\n",
    "    \n",
    "    def __init__(self,owner,balance):\n",
    "        self.owner=owner\n",
    "        self.balance=balance\n",
    "        \n",
    "    def deposit(self,amount):\n",
    "        self.balance+=amount\n",
    "        # print(\"You deposited {} ; your new balance is {}\".format(amount,self.balance))\n",
    "        return self.balance\n",
    "    \n",
    "    def withdraw(self,amount):\n",
    "        if amount > self.balance:\n",
    "            print(\"You don't have that much in your account\")\n",
    "            return False\n",
    "        else:\n",
    "            self.balance-=amount\n",
    "            # print(\"You withdrew {} ; your new balance is {}\".format(amount,self.balance))\n",
    "            return amount\n",
    "    def __str__(self):\n",
    "        return \"Account owner:   {} \\nAccount balance: ${}\".format(self.owner,self.balance)"
   ]
  },
  {
   "cell_type": "code",
   "execution_count": 133,
   "id": "bd6fa044",
   "metadata": {},
   "outputs": [],
   "source": [
    "class Player(Account):\n",
    "    \n",
    "    def __init__(self,name,balance):\n",
    "        self.name = name\n",
    "        self.balance = balance\n",
    "        Account.__init__(self,self.name,self.balance)\n",
    "        # A new player has no cards\n",
    "        self.all_cards = [] \n",
    "        \n",
    "    def remove_one(self):\n",
    "        # Note we remove one card from the list of all_cards\n",
    "        # We state 0 to remove from the \"top\" of the deck\n",
    "        # We'll imagine index -1 as the bottom of the deck\n",
    "        return self.all_cards.pop(0)\n",
    "    \n",
    "    def add_cards(self,new_cards):\n",
    "        if type(new_cards) == type([]):\n",
    "            self.all_cards.extend(new_cards)\n",
    "        else:\n",
    "            self.all_cards.append(new_cards)\n",
    "    \n",
    "    def show_cards(self,index):\n",
    "        print(self.all_cards[index])\n",
    "        return self.all_cards[index]\n",
    "    \n",
    "    def __str__(self):\n",
    "        return f'Player {self.name} has {len(self.all_cards)} cards.'"
   ]
  },
  {
   "cell_type": "code",
   "execution_count": 134,
   "id": "a8ee1caa",
   "metadata": {},
   "outputs": [],
   "source": [
    "jose = Player(\"Jose\",100)"
   ]
  },
  {
   "cell_type": "code",
   "execution_count": 135,
   "id": "91633ad5",
   "metadata": {},
   "outputs": [
    {
     "name": "stdout",
     "output_type": "stream",
     "text": [
      "100\n"
     ]
    }
   ],
   "source": [
    "print(jose.balance)"
   ]
  },
  {
   "cell_type": "code",
   "execution_count": 136,
   "id": "31cd14c4",
   "metadata": {},
   "outputs": [
    {
     "data": {
      "text/plain": [
       "200"
      ]
     },
     "execution_count": 136,
     "metadata": {},
     "output_type": "execute_result"
    }
   ],
   "source": [
    "jose.deposit(100)"
   ]
  },
  {
   "cell_type": "code",
   "execution_count": 137,
   "id": "00ef03ee",
   "metadata": {},
   "outputs": [],
   "source": [
    "class Bet:\n",
    "    \n",
    "    def __init__(self):\n",
    "        pass"
   ]
  },
  {
   "cell_type": "markdown",
   "id": "82095ad6",
   "metadata": {},
   "source": [
    "# Functions"
   ]
  },
  {
   "cell_type": "code",
   "execution_count": 138,
   "id": "c8266940",
   "metadata": {},
   "outputs": [],
   "source": [
    "def play_again():\n",
    "    correct_input=False\n",
    "\n",
    "    while correct_input==False:\n",
    "        again=input(\"Do you want to play again? (y/n): \")\n",
    "        if again=='n':\n",
    "                correct_input=True\n",
    "                return False\n",
    "        elif again=='y':\n",
    "                correct_input=True\n",
    "                return True\n",
    "        else:\n",
    "                print(f\"{again} is not a valid answer\")"
   ]
  },
  {
   "cell_type": "code",
   "execution_count": 139,
   "id": "1f839efa",
   "metadata": {},
   "outputs": [],
   "source": [
    "def current_sum(player):\n",
    "    summ = 0\n",
    "    aces = 0\n",
    "    for card in player.all_cards: \n",
    "        summ+=card.value\n",
    "    if summ <= 21:\n",
    "        return summ\n",
    "    else:\n",
    "        for card in player.all_cards:\n",
    "            if card.rank=='Ace':\n",
    "                aces+=1\n",
    "        while aces>0 and summ>21:\n",
    "            aces-=1\n",
    "            summ-=10\n",
    "        return summ\n",
    "                "
   ]
  },
  {
   "cell_type": "code",
   "execution_count": 183,
   "id": "0aed7b79",
   "metadata": {},
   "outputs": [],
   "source": [
    "def show_table(human,dealer,bet):\n",
    "    clear_output()\n",
    "    print(\"Dealer has: (1x face down)\")\n",
    "    for card in range((len(dealer.all_cards)-1)):\n",
    "        print(dealer.all_cards[card+1])\n",
    "    print(\" \")\n",
    "    print(\"Current Balance: ${} Your bet: {}\".format(human.balance,bet.balance))\n",
    "    for card in range(len(human.all_cards)):\n",
    "        print(human.all_cards[card])\n",
    "    summ = current_sum(human)\n",
    "    print(\"Card total: {}\".format(summ))\n",
    "    "
   ]
  },
  {
   "cell_type": "markdown",
   "id": "922a71af",
   "metadata": {},
   "source": [
    "## New Game Setup"
   ]
  },
  {
   "cell_type": "code",
   "execution_count": 217,
   "id": "e2fd33f1",
   "metadata": {},
   "outputs": [],
   "source": [
    "from IPython.display import clear_output\n",
    "import random \n",
    "import time\n",
    "\n",
    "new_deck = Deck()\n",
    "new_deck.shuffle()\n",
    "new_deck.shuffle()\n",
    "discard = Deck()\n",
    "discard.all_cards = []\n",
    "human = Player(\"Player\",500)\n",
    "dealer = Player(\"Dealer\",100000)\n",
    "bet = Account(\"bet\",0)"
   ]
  },
  {
   "cell_type": "code",
   "execution_count": 218,
   "id": "e8db4532",
   "metadata": {},
   "outputs": [],
   "source": [
    "#human.add_cards(new_deck.deal_one())\n",
    "#human.show_cards(-1)\n",
    "ace_clubs=Card('Clubs','Ace')"
   ]
  },
  {
   "cell_type": "code",
   "execution_count": 219,
   "id": "a44f8f54",
   "metadata": {},
   "outputs": [
    {
     "name": "stdout",
     "output_type": "stream",
     "text": [
      "Dealer has: (1x face down)\n",
      "Two of Clubs\n",
      "Six of Diamonds\n",
      " \n",
      "Current Balance: $0 Your bet: 1000\n",
      "Three of Clubs\n",
      "Nine of Hearts\n",
      "Ace of Clubs\n",
      "Ace of Clubs\n",
      "Ace of Clubs\n",
      "Card total: 15\n",
      "\n",
      "Dealer's hidden card was Ace of Spades\n",
      "Dealer's total was 19\n",
      "You won!\n",
      "You now have $2000\n",
      "Do you want to play again? (y/n): n\n"
     ]
    }
   ],
   "source": [
    "game_on = True\n",
    "\n",
    "while game_on:\n",
    "       \n",
    "    # if player has more than $5\n",
    "    if human.balance >= 5:\n",
    "        # auto bet of $5 from player's account\n",
    "        bet.deposit(human.withdraw(5))\n",
    "    else:\n",
    "        print(\"You do not have enough money to play\")\n",
    "        game_on = False; \n",
    "        print(\"GAME OVER!  You're broke!\")\n",
    "        break\n",
    "        \n",
    "    # Deal player-dealer-player-dealer\n",
    "    human.add_cards(new_deck.deal_one())\n",
    "    dealer.add_cards(new_deck.deal_one())\n",
    "    human.add_cards(new_deck.deal_one())\n",
    "    dealer.add_cards(new_deck.deal_one())\n",
    "    # human.add_cards(ace_clubs) # for testing summ total\n",
    "        \n",
    "    # show what's on the table & player's account balance\n",
    "    show_table(human,dealer,bet)\n",
    "    \n",
    "    # gather bet\n",
    "    new_bet=\" \"\n",
    "    while new_bet.isdigit()==False:\n",
    "        new_bet=input(\"How much would you like to bet?  \")\n",
    "        if new_bet.isdigit()==False:\n",
    "            print(\"{} is not a valid input\".format(new_bet))\n",
    "        elif int(new_bet) > human.balance:\n",
    "            print(\"You don't have that much money!\")\n",
    "            new_bet=\" \"\n",
    "        else:\n",
    "            bet.deposit(human.withdraw(int(new_bet)))\n",
    "    show_table(human,dealer,bet)\n",
    "        \n",
    "    # set up drawing\n",
    "    bust=False\n",
    "    stay=False\n",
    "    while bust == False and stay == False:\n",
    "        hit_stay=\"\"\n",
    "        while hit_stay != \"h\" and hit_stay != \"s\":\n",
    "            hit_stay = input(\"Would you like to hit or stay? (h/s): \")\n",
    "            if hit_stay != \"h\" and hit_stay != \"s\":\n",
    "                print(\"Invalid input.  Please hit h for hit or s for stay \")\n",
    "        if hit_stay==\"s\":\n",
    "            show_table(human,dealer,bet)\n",
    "            print(\"You chose to stay\")\n",
    "            stay=True\n",
    "            time.sleep(2)\n",
    "        else:\n",
    "            human.add_cards(new_deck.deal_one())\n",
    "            show_table(human,dealer,bet)\n",
    "        human_sum = current_sum(human)\n",
    "        if human_sum > 21:\n",
    "            bust=True\n",
    "            print(\"\\nYou busted!\")\n",
    "            bet.balance=0\n",
    "    if bust==False:\n",
    "        dealer_sum = current_sum(dealer)\n",
    "        \"\"\"\n",
    "        if dealer_sum >= human_sum:\n",
    "            print(f\"Dealer's hidden card was {dealer.all_cards[0]}\")\n",
    "            print(f\"Dealer's total was {dealer_sum}\")\n",
    "            print(f\"You lost!\")\n",
    "            bet.balance=0\n",
    "        else:\n",
    "            while dealer_sum<human_sum:\n",
    "                dealer.add_cards(new_deck.deal_one())\n",
    "                dealer_sum = current_sum(dealer)\n",
    "            if dealer_sum<17:\n",
    "        \"\"\"\n",
    "        if dealer_sum<17:\n",
    "            while dealer_sum<17:\n",
    "                dealer.add_cards(new_deck.deal_one())\n",
    "                dealer_sum = current_sum(dealer)\n",
    "        show_table(human,dealer,bet)\n",
    "        print(f\"\\nDealer's hidden card was {dealer.all_cards[0]}\")\n",
    "        print(f\"Dealer's total was {dealer_sum}\")\n",
    "        if dealer_sum >= 22:\n",
    "            print(f\"You won!\")\n",
    "            # print(f\"{bet.balance}\")\n",
    "            human.deposit(2*bet.withdraw(bet.balance))\n",
    "            bet.balance=0\n",
    "            print(\"You now have ${}\".format(human.balance))\n",
    "        elif len(human.all_cards)>=5:\n",
    "            print(f\"You won!\")\n",
    "            # print(f\"{bet.balance}\")\n",
    "            human.deposit(2*bet.withdraw(bet.balance))\n",
    "            bet.balance=0\n",
    "            print(\"You now have ${}\".format(human.balance))\n",
    "        elif dealer_sum>=human_sum:   \n",
    "            print(f\"You lost!\")\n",
    "            bet.balance=0\n",
    "        else:\n",
    "            print(f\"You won!\")\n",
    "            human.deposit(2*bet.withdraw(bet.balance))\n",
    "            bet.balance=0\n",
    "            print(\"You now have ${}\".format(human.balance))\n",
    "    \n",
    "    # put player cards into discard pile\n",
    "    for card in human.all_cards:\n",
    "        discard.add_cards(card)\n",
    "        # print(\"Discarded one from human\")\n",
    "    human.all_cards=[]\n",
    "    # print(\" \")\n",
    "    # print(\"Human's cards left are: \")\n",
    "    # for card in range(len(human.all_cards)):\n",
    "        # print(human.all_cards[card])\n",
    "    # time.sleep(1)\n",
    "    \n",
    "    # put dealer cards into discard pile\n",
    "    for card in dealer.all_cards:\n",
    "        discard.add_cards(card)\n",
    "        # print(\"Discarded one from dealer\")\n",
    "    # print(\" \")\n",
    "    dealer.all_cards=[]\n",
    "    # print(\"Dealer's cards left are: \")\n",
    "    # for card in range(len(dealer.all_cards)):\n",
    "        # print(dealer.all_cards[card])\n",
    "    # time.sleep(1)\n",
    "    \"\"\"\n",
    "    print(\"\")\n",
    "    print(\"Discard pile has: \")\n",
    "    for card in range(len(discard.all_cards)):\n",
    "        print(discard.all_cards[card])\n",
    "    \"\"\"\n",
    "    \n",
    "    # if deck is less than 15 cards - place discard into deck and shuffle deck\n",
    "    if len(discard.all_cards) < 15:\n",
    "        for card in discard.all_cards:\n",
    "            new_deck.add_cards(card)\n",
    "        discard.all_cards=[]\n",
    "        new_deck.shuffle()\n",
    "        new_deck.shuffle()\n",
    "        \n",
    "    # ask if they want to play again\n",
    "    game_on=play_again()\n",
    "    "
   ]
  },
  {
   "cell_type": "code",
   "execution_count": null,
   "id": "ab98faf8",
   "metadata": {},
   "outputs": [],
   "source": []
  }
 ],
 "metadata": {
  "kernelspec": {
   "display_name": "Python 3 (ipykernel)",
   "language": "python",
   "name": "python3"
  },
  "language_info": {
   "codemirror_mode": {
    "name": "ipython",
    "version": 3
   },
   "file_extension": ".py",
   "mimetype": "text/x-python",
   "name": "python",
   "nbconvert_exporter": "python",
   "pygments_lexer": "ipython3",
   "version": "3.9.7"
  }
 },
 "nbformat": 4,
 "nbformat_minor": 5
}
