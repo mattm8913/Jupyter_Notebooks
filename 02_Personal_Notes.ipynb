{
 "cells": [
  {
   "cell_type": "raw",
   "id": "33d492c4",
   "metadata": {},
   "source": [
    "While loops can also use while-else structure like if-else"
   ]
  },
  {
   "cell_type": "markdown",
   "id": "36ae5e53",
   "metadata": {},
   "source": [
    "break - breaks out of the current closest enclosing loop\n",
    "continue - goes to the top of the closest enclosing loop\n",
    "pass: does nothing at all"
   ]
  },
  {
   "cell_type": "markdown",
   "id": "33c91362",
   "metadata": {},
   "source": [
    "# Enumerate"
   ]
  },
  {
   "cell_type": "markdown",
   "id": "6628da51",
   "metadata": {},
   "source": [
    "works like using an index variable and then increasing the index by 1:"
   ]
  },
  {
   "cell_type": "code",
   "execution_count": 1,
   "id": "a8db3100",
   "metadata": {},
   "outputs": [
    {
     "name": "stdout",
     "output_type": "stream",
     "text": [
      "(0, 'a')\n",
      "(1, 'b')\n",
      "(2, 'c')\n",
      "(3, 'd')\n",
      "(4, 'e')\n"
     ]
    }
   ],
   "source": [
    "word = 'abcde'\n",
    "for item in enumerate(word):\n",
    "    print(item)"
   ]
  },
  {
   "cell_type": "code",
   "execution_count": 2,
   "id": "7ecc9be7",
   "metadata": {},
   "outputs": [
    {
     "name": "stdout",
     "output_type": "stream",
     "text": [
      "0\n",
      "a\n",
      "\n",
      "1\n",
      "b\n",
      "\n",
      "2\n",
      "c\n",
      "\n",
      "3\n",
      "d\n",
      "\n",
      "4\n",
      "e\n",
      "\n"
     ]
    }
   ],
   "source": [
    "word = 'abcde'\n",
    "for index, letter in enumerate(word):\n",
    "    print(index)\n",
    "    print(letter)\n",
    "    print('')"
   ]
  },
  {
   "cell_type": "markdown",
   "id": "8dbedc25",
   "metadata": {},
   "source": [
    "# Zip function"
   ]
  },
  {
   "cell_type": "markdown",
   "id": "db25de7e",
   "metadata": {},
   "source": [
    "## sort of the opposite of the enumerate function"
   ]
  },
  {
   "cell_type": "markdown",
   "id": "b9fef553",
   "metadata": {},
   "source": [
    "enumerate assigns an index to every item; zip combined 2 lists into a list of tuple pairs"
   ]
  },
  {
   "cell_type": "code",
   "execution_count": 5,
   "id": "ea4ef216",
   "metadata": {},
   "outputs": [
    {
     "name": "stdout",
     "output_type": "stream",
     "text": [
      "(1, 'a')\n",
      "(2, 'b')\n",
      "(3, 'c')\n",
      "(4, 'd')\n"
     ]
    }
   ],
   "source": [
    "mylist1= [1,2,3,4]\n",
    "mylist2=['a','b','c','d','e']\n",
    "for item in zip(mylist1,mylist2):\n",
    "    print(item)"
   ]
  },
  {
   "cell_type": "markdown",
   "id": "7d228dc3",
   "metadata": {},
   "source": [
    "note that any extra items on any list wil be truncated"
   ]
  },
  {
   "cell_type": "code",
   "execution_count": 7,
   "id": "a649bac5",
   "metadata": {},
   "outputs": [
    {
     "name": "stdout",
     "output_type": "stream",
     "text": [
      "(1, 'a', 100)\n",
      "(2, 'b', 200)\n",
      "(3, 'c', 300)\n"
     ]
    }
   ],
   "source": [
    "mylist1= [1,2,3,4]\n",
    "mylist2=['a','b','c','d','e']\n",
    "mylist3=[100,200,300]\n",
    "for item in zip(mylist1,mylist2,mylist3):\n",
    "    print(item)"
   ]
  },
  {
   "cell_type": "markdown",
   "id": "259909b4",
   "metadata": {},
   "source": [
    "\"in\" function - checking if an object is in a list or key within a dictionary\n",
    "min and max are also functions"
   ]
  },
  {
   "cell_type": "code",
   "execution_count": 8,
   "id": "445ce425",
   "metadata": {},
   "outputs": [
    {
     "data": {
      "text/plain": [
       "True"
      ]
     },
     "execution_count": 8,
     "metadata": {},
     "output_type": "execute_result"
    }
   ],
   "source": [
    "1 in [1,2,3]"
   ]
  },
  {
   "cell_type": "code",
   "execution_count": 10,
   "id": "c0c77a1d",
   "metadata": {},
   "outputs": [],
   "source": [
    "# random functions (use tab to discover all of them)\n",
    "from random import shuffle\n",
    "mylist=[1,2,3,4,5,6,7,8,9]\n",
    "shuffle(mylist) #works in place => does not return anything"
   ]
  },
  {
   "cell_type": "code",
   "execution_count": 11,
   "id": "9f28199f",
   "metadata": {},
   "outputs": [
    {
     "name": "stdout",
     "output_type": "stream",
     "text": [
      "[3, 2, 9, 5, 1, 8, 6, 4, 7]\n"
     ]
    }
   ],
   "source": [
    "print(mylist)"
   ]
  },
  {
   "cell_type": "code",
   "execution_count": 12,
   "id": "11ed5f57",
   "metadata": {},
   "outputs": [
    {
     "data": {
      "text/plain": [
       "92"
      ]
     },
     "execution_count": 12,
     "metadata": {},
     "output_type": "execute_result"
    }
   ],
   "source": [
    "from random import randint\n",
    "randint(0,100)"
   ]
  },
  {
   "cell_type": "code",
   "execution_count": 13,
   "id": "1f8f4a0f",
   "metadata": {},
   "outputs": [],
   "source": [
    "mynum=randint(0,10)"
   ]
  },
  {
   "cell_type": "code",
   "execution_count": 14,
   "id": "6c7dc737",
   "metadata": {},
   "outputs": [
    {
     "data": {
      "text/plain": [
       "2"
      ]
     },
     "execution_count": 14,
     "metadata": {},
     "output_type": "execute_result"
    }
   ],
   "source": [
    "mynum"
   ]
  },
  {
   "cell_type": "markdown",
   "id": "e9d685ed",
   "metadata": {},
   "source": [
    "Input function - always imports as a string type;\n",
    "    needs to be transformed if you want to use it s a number\n",
    "# List Comprehensions"
   ]
  },
  {
   "cell_type": "code",
   "execution_count": 15,
   "id": "3962f1a1",
   "metadata": {},
   "outputs": [
    {
     "name": "stdout",
     "output_type": "stream",
     "text": [
      "['h', 'e', 'l', 'l', 'o']\n"
     ]
    }
   ],
   "source": [
    "mystring='hello'\n",
    "mylist=[]\n",
    "for letter in mystring:\n",
    "    mylist.append(letter)\n",
    "print(mylist)"
   ]
  },
  {
   "cell_type": "code",
   "execution_count": 16,
   "id": "bd8ed855",
   "metadata": {},
   "outputs": [
    {
     "name": "stdout",
     "output_type": "stream",
     "text": [
      "['h', 'e', 'l', 'l', 'o']\n"
     ]
    }
   ],
   "source": [
    "mystring='hello'\n",
    "mylist=[letter for letter in mystring]\n",
    "print(mylist)"
   ]
  },
  {
   "cell_type": "code",
   "execution_count": 18,
   "id": "d0e843ec",
   "metadata": {},
   "outputs": [
    {
     "name": "stdout",
     "output_type": "stream",
     "text": [
      "[0, 1, 4, 9, 16, 25, 36, 49, 64, 81, 100]\n"
     ]
    }
   ],
   "source": [
    "mylist=[num**2 for num in range(0,11)]\n",
    "print(mylist)"
   ]
  },
  {
   "cell_type": "code",
   "execution_count": 19,
   "id": "6ebc304a",
   "metadata": {},
   "outputs": [
    {
     "name": "stdout",
     "output_type": "stream",
     "text": [
      "[0, 2, 4, 6, 8, 10]\n"
     ]
    }
   ],
   "source": [
    "mylist = [x for x in range(0,11) if x%2==0]\n",
    "print(mylist)"
   ]
  },
  {
   "cell_type": "code",
   "execution_count": 20,
   "id": "1524ddb5",
   "metadata": {},
   "outputs": [
    {
     "name": "stdout",
     "output_type": "stream",
     "text": [
      "[0, 4, 16, 36, 64, 100]\n"
     ]
    }
   ],
   "source": [
    "mylist = [x**2 for x in range(0,11) if x%2==0]\n",
    "print(mylist)"
   ]
  },
  {
   "cell_type": "code",
   "execution_count": 21,
   "id": "f50667f9",
   "metadata": {},
   "outputs": [
    {
     "name": "stdout",
     "output_type": "stream",
     "text": [
      "[32.0, 50.0, 68.0, 94.1]\n"
     ]
    }
   ],
   "source": [
    "celcius = [0,10,20,34.5]\n",
    "fahrenheit = [( (9/5)*temp +32) for temp in celcius]\n",
    "print(fahrenheit)"
   ]
  },
  {
   "cell_type": "code",
   "execution_count": 24,
   "id": "f48f6176",
   "metadata": {},
   "outputs": [
    {
     "name": "stdout",
     "output_type": "stream",
     "text": [
      "[0, 'ODD', 2, 'ODD', 4, 'ODD', 6, 'ODD', 8, 'ODD', 10]\n"
     ]
    }
   ],
   "source": [
    "results = [x if x%2==0 else 'ODD' for x in range(0,11)]\n",
    "print(results)"
   ]
  },
  {
   "cell_type": "code",
   "execution_count": 28,
   "id": "de6c1132",
   "metadata": {},
   "outputs": [
    {
     "name": "stdout",
     "output_type": "stream",
     "text": [
      "[2, 20, 2000, 4, 40, 4000, 6, 60, 6000]\n"
     ]
    }
   ],
   "source": [
    "mylist=[]\n",
    "\n",
    "for x in [2,4,6]:\n",
    "    for y in [1,10,1000]:\n",
    "          mylist.append(x*y)\n",
    "print(mylist)"
   ]
  },
  {
   "cell_type": "code",
   "execution_count": 29,
   "id": "9fc318d5",
   "metadata": {},
   "outputs": [
    {
     "name": "stdout",
     "output_type": "stream",
     "text": [
      "[2, 20, 2000, 4, 40, 4000, 6, 60, 6000]\n"
     ]
    }
   ],
   "source": [
    "mylist = [x*y for x in [2,4,6]for y in [1,10,1000]]\n",
    "print(mylist)"
   ]
  },
  {
   "cell_type": "markdown",
   "id": "58a02293",
   "metadata": {},
   "source": [
    "# For-Else Structure"
   ]
  },
  {
   "cell_type": "markdown",
   "id": "7c113827",
   "metadata": {},
   "source": [
    "## unique to python"
   ]
  },
  {
   "cell_type": "markdown",
   "id": "350c50b4",
   "metadata": {},
   "source": [
    "used with a \"break\" statement in the FOR loop.  If you successfully execute the FOR loop, then skip the \"else\" block.  If you broke out of the FOR loop without finishing, then execute the \"else\" block."
   ]
  },
  {
   "cell_type": "code",
   "execution_count": null,
   "id": "4038b4a9",
   "metadata": {},
   "outputs": [],
   "source": []
  }
 ],
 "metadata": {
  "kernelspec": {
   "display_name": "Python 3 (ipykernel)",
   "language": "python",
   "name": "python3"
  },
  "language_info": {
   "codemirror_mode": {
    "name": "ipython",
    "version": 3
   },
   "file_extension": ".py",
   "mimetype": "text/x-python",
   "name": "python",
   "nbconvert_exporter": "python",
   "pygments_lexer": "ipython3",
   "version": "3.9.7"
  }
 },
 "nbformat": 4,
 "nbformat_minor": 5
}
