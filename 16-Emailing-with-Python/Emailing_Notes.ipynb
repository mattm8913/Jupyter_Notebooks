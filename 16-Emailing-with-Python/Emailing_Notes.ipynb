{
 "cells": [
  {
   "cell_type": "markdown",
   "id": "8f468244",
   "metadata": {},
   "source": [
    "# Sending Emails"
   ]
  },
  {
   "cell_type": "code",
   "execution_count": 1,
   "id": "920acc51",
   "metadata": {},
   "outputs": [],
   "source": [
    "import smtplib"
   ]
  },
  {
   "cell_type": "code",
   "execution_count": 2,
   "id": "b4d5ba07",
   "metadata": {},
   "outputs": [],
   "source": [
    "smtp_object = smtplib.SMTP('smtp.gmail.com',587)"
   ]
  },
  {
   "cell_type": "code",
   "execution_count": 3,
   "id": "6ee6896b",
   "metadata": {},
   "outputs": [
    {
     "data": {
      "text/plain": [
       "(250,\n",
       " b'smtp.gmail.com at your service, [73.92.3.179]\\nSIZE 35882577\\n8BITMIME\\nSTARTTLS\\nENHANCEDSTATUSCODES\\nPIPELINING\\nCHUNKING\\nSMTPUTF8')"
      ]
     },
     "execution_count": 3,
     "metadata": {},
     "output_type": "execute_result"
    }
   ],
   "source": [
    "smtp_object.ehlo()"
   ]
  },
  {
   "cell_type": "code",
   "execution_count": 4,
   "id": "26825dd9",
   "metadata": {},
   "outputs": [
    {
     "data": {
      "text/plain": [
       "(220, b'2.0.0 Ready to start TLS')"
      ]
     },
     "execution_count": 4,
     "metadata": {},
     "output_type": "execute_result"
    }
   ],
   "source": [
    "smtp_object.starttls()"
   ]
  },
  {
   "cell_type": "code",
   "execution_count": 5,
   "id": "ec07d1c2",
   "metadata": {},
   "outputs": [],
   "source": [
    "import getpass"
   ]
  },
  {
   "cell_type": "code",
   "execution_count": 7,
   "id": "9bcc78d4",
   "metadata": {},
   "outputs": [
    {
     "name": "stdout",
     "output_type": "stream",
     "text": [
      "Password please: ········\n"
     ]
    }
   ],
   "source": [
    "password = getpass.getpass('Password please: ')"
   ]
  },
  {
   "cell_type": "code",
   "execution_count": 8,
   "id": "5e004511",
   "metadata": {},
   "outputs": [
    {
     "data": {
      "text/plain": [
       "8"
      ]
     },
     "execution_count": 8,
     "metadata": {},
     "output_type": "execute_result"
    }
   ],
   "source": [
    "len(password)"
   ]
  },
  {
   "cell_type": "code",
   "execution_count": 9,
   "id": "34703d9f",
   "metadata": {},
   "outputs": [
    {
     "name": "stdout",
     "output_type": "stream",
     "text": [
      "Email: ········\n",
      "Password: ········\n"
     ]
    },
    {
     "data": {
      "text/plain": [
       "(235, b'2.7.0 Accepted')"
      ]
     },
     "execution_count": 9,
     "metadata": {},
     "output_type": "execute_result"
    }
   ],
   "source": [
    "email = getpass.getpass('Email: ')\n",
    "password = getpass.getpass('Password: ')\n",
    "smtp_object.login(email,password)"
   ]
  },
  {
   "cell_type": "code",
   "execution_count": 11,
   "id": "1bebeaf7",
   "metadata": {},
   "outputs": [
    {
     "name": "stdout",
     "output_type": "stream",
     "text": [
      "enter the subject line: Testing Python email\n",
      "enter the body message: Hello, this is a test of my Python emailing capability.\n"
     ]
    }
   ],
   "source": [
    "from_address = email\n",
    "to_address = email\n",
    "subject = input(\"enter the subject line: \")\n",
    "message = input(\"enter the body message: \")\n",
    "msg = \"Subject: \"+subject+'\\n'+message  # single string with first line being subject line"
   ]
  },
  {
   "cell_type": "code",
   "execution_count": 12,
   "id": "f0675942",
   "metadata": {},
   "outputs": [
    {
     "data": {
      "text/plain": [
       "{}"
      ]
     },
     "execution_count": 12,
     "metadata": {},
     "output_type": "execute_result"
    }
   ],
   "source": [
    "smtp_object.sendmail(from_address,to_address,msg)"
   ]
  },
  {
   "cell_type": "code",
   "execution_count": 13,
   "id": "d540f5b0",
   "metadata": {},
   "outputs": [],
   "source": [
    "# empty dictionary return = success"
   ]
  },
  {
   "cell_type": "code",
   "execution_count": 14,
   "id": "98ed522d",
   "metadata": {},
   "outputs": [
    {
     "data": {
      "text/plain": [
       "(221,\n",
       " b'2.0.0 closing connection a23-20020a62bd17000000b0050dc762817csm8285024pff.86 - gsmtp')"
      ]
     },
     "execution_count": 14,
     "metadata": {},
     "output_type": "execute_result"
    }
   ],
   "source": [
    "smtp_object.quit()"
   ]
  },
  {
   "cell_type": "markdown",
   "id": "bd922d6a",
   "metadata": {},
   "source": [
    "# View & Receive Emails"
   ]
  },
  {
   "cell_type": "code",
   "execution_count": 17,
   "id": "b440eda5",
   "metadata": {},
   "outputs": [],
   "source": [
    "# already imported getpass \n",
    "import imaplib"
   ]
  },
  {
   "cell_type": "code",
   "execution_count": 18,
   "id": "2eed577a",
   "metadata": {},
   "outputs": [],
   "source": [
    "M = imaplib.IMAP4_SSL('imap.gmail.com')"
   ]
  },
  {
   "cell_type": "code",
   "execution_count": 19,
   "id": "14766b0b",
   "metadata": {},
   "outputs": [],
   "source": [
    "# already did email and password above"
   ]
  },
  {
   "cell_type": "code",
   "execution_count": 20,
   "id": "82924ff9",
   "metadata": {},
   "outputs": [
    {
     "data": {
      "text/plain": [
       "('OK', [b'mattmcvay12345@gmail.com authenticated (Success)'])"
      ]
     },
     "execution_count": 20,
     "metadata": {},
     "output_type": "execute_result"
    }
   ],
   "source": [
    "M.login(email,password)"
   ]
  },
  {
   "cell_type": "code",
   "execution_count": 22,
   "id": "a4fb2e16",
   "metadata": {},
   "outputs": [
    {
     "data": {
      "text/plain": [
       "('OK',\n",
       " [b'(\\\\HasNoChildren) \"/\" \"Adjutant Folder\"',\n",
       "  b'(\\\\HasChildren) \"/\" \"Articles - NYT\"',\n",
       "  b'(\\\\HasNoChildren) \"/\" \"Articles - NYT/unread\"',\n",
       "  b'(\\\\HasNoChildren) \"/\" \"Bodybuilding\"',\n",
       "  b'(\\\\HasNoChildren) \"/\" \"Church emails\"',\n",
       "  b'(\\\\HasNoChildren) \"/\" \"Craigslist\"',\n",
       "  b'(\\\\HasNoChildren) \"/\" \"Deleted Items\"',\n",
       "  b'(\\\\HasNoChildren) \"/\" \"Ebay\"',\n",
       "  b'(\\\\HasNoChildren) \"/\" \"Groupons\"',\n",
       "  b'(\\\\HasNoChildren) \"/\" \"Honeymoon\"',\n",
       "  b'(\\\\HasNoChildren) \"/\" \"Hotels\"',\n",
       "  b'(\\\\HasNoChildren) \"/\" \"INBOX\"',\n",
       "  b'(\\\\HasChildren) \"/\" \"Receipts\"',\n",
       "  b'(\\\\HasNoChildren) \"/\" \"Receipts/Business Expenses\"',\n",
       "  b'(\\\\HasNoChildren) \"/\" \"Receipts/CA Move\"',\n",
       "  b'(\\\\HasNoChildren) \"/\" \"Receipts/Donations\"',\n",
       "  b'(\\\\HasNoChildren) \"/\" \"Receipts/FIXD\"',\n",
       "  b'(\\\\HasNoChildren) \"/\" \"Receipts/Fallon Move\"',\n",
       "  b'(\\\\HasNoChildren) \"/\" \"Receipts/Tracking Packages\"',\n",
       "  b'(\\\\HasNoChildren) \"/\" \"Receipts/Unaccounted receipts\"',\n",
       "  b'(\\\\HasChildren) \"/\" \"Saved Stuff\"',\n",
       "  b'(\\\\HasNoChildren) \"/\" \"Saved Stuff/Articles\"',\n",
       "  b'(\\\\HasNoChildren) \"/\" \"Saved Stuff/Boost\"',\n",
       "  b'(\\\\HasChildren \\\\Noselect) \"/\" \"Saved Stuff/CA\"',\n",
       "  b'(\\\\HasNoChildren) \"/\" \"Saved Stuff/CA/NV House\"',\n",
       "  b'(\\\\HasNoChildren) \"/\" \"Saved Stuff/Cardiology\"',\n",
       "  b'(\\\\HasNoChildren) \"/\" \"Saved Stuff/Color code\"',\n",
       "  b'(\\\\HasNoChildren) \"/\" \"Saved Stuff/Marriage Stuff\"',\n",
       "  b'(\\\\HasNoChildren) \"/\" \"Saved Stuff/Safeway rewards\"',\n",
       "  b'(\\\\HasNoChildren) \"/\" \"Saved Stuff/Surfing\"',\n",
       "  b'(\\\\HasChildren) \"/\" \"Saved Stuff/Transition\"',\n",
       "  b'(\\\\HasNoChildren) \"/\" \"Saved Stuff/Transition/Zoom emails\"',\n",
       "  b'(\\\\HasNoChildren) \"/\" \"Saved Stuff/Truck Threads\"',\n",
       "  b'(\\\\HasChildren) \"/\" \"Sentimental\"',\n",
       "  b'(\\\\HasNoChildren) \"/\" \"Sentimental/Brittany\"',\n",
       "  b'(\\\\HasNoChildren) \"/\" \"Sentimental/Family\"',\n",
       "  b'(\\\\HasNoChildren) \"/\" \"Sentimental/NEED TO READ\"',\n",
       "  b'(\\\\HasNoChildren) \"/\" \"Tickets\"',\n",
       "  b'(\\\\HasNoChildren) \"/\" \"Trash\"',\n",
       "  b'(\\\\HasNoChildren) \"/\" \"USNA Saved\"',\n",
       "  b'(\\\\HasNoChildren) \"/\" \"Unwanted\"',\n",
       "  b'(\\\\HasNoChildren) \"/\" \"Verizon\"',\n",
       "  b'(\\\\HasChildren \\\\Noselect) \"/\" \"[Gmail]\"',\n",
       "  b'(\\\\All \\\\HasNoChildren) \"/\" \"[Gmail]/All Mail\"',\n",
       "  b'(\\\\Drafts \\\\HasNoChildren) \"/\" \"[Gmail]/Drafts\"',\n",
       "  b'(\\\\HasNoChildren \\\\Important) \"/\" \"[Gmail]/Important\"',\n",
       "  b'(\\\\HasNoChildren \\\\Sent) \"/\" \"[Gmail]/Sent Mail\"',\n",
       "  b'(\\\\HasNoChildren \\\\Junk) \"/\" \"[Gmail]/Spam\"',\n",
       "  b'(\\\\Flagged \\\\HasNoChildren) \"/\" \"[Gmail]/Starred\"',\n",
       "  b'(\\\\HasNoChildren \\\\Trash) \"/\" \"[Gmail]/Trash\"',\n",
       "  b'(\\\\HasNoChildren) \"/\" \"housing\"'])"
      ]
     },
     "execution_count": 22,
     "metadata": {},
     "output_type": "execute_result"
    }
   ],
   "source": [
    "M.list()"
   ]
  },
  {
   "cell_type": "code",
   "execution_count": 23,
   "id": "86e3e10f",
   "metadata": {},
   "outputs": [
    {
     "data": {
      "text/plain": [
       "('OK', [b'25239'])"
      ]
     },
     "execution_count": 23,
     "metadata": {},
     "output_type": "execute_result"
    }
   ],
   "source": [
    "M.select(\"Inbox\")"
   ]
  },
  {
   "cell_type": "code",
   "execution_count": 24,
   "id": "44b2c51f",
   "metadata": {},
   "outputs": [],
   "source": [
    "typ, data = M.search(None,'SUBJECT \"Testing Python email\"')"
   ]
  },
  {
   "cell_type": "code",
   "execution_count": 25,
   "id": "e168d8b4",
   "metadata": {},
   "outputs": [
    {
     "data": {
      "text/plain": [
       "'OK'"
      ]
     },
     "execution_count": 25,
     "metadata": {},
     "output_type": "execute_result"
    }
   ],
   "source": [
    "typ"
   ]
  },
  {
   "cell_type": "code",
   "execution_count": 26,
   "id": "4b263538",
   "metadata": {},
   "outputs": [
    {
     "data": {
      "text/plain": [
       "[b'25239']"
      ]
     },
     "execution_count": 26,
     "metadata": {},
     "output_type": "execute_result"
    }
   ],
   "source": [
    "data"
   ]
  },
  {
   "cell_type": "code",
   "execution_count": 27,
   "id": "2a01d42f",
   "metadata": {},
   "outputs": [],
   "source": [
    "email_id = data[0]"
   ]
  },
  {
   "cell_type": "code",
   "execution_count": 28,
   "id": "e3fa0dbe",
   "metadata": {},
   "outputs": [],
   "source": [
    "result , email_data = M.fetch(email_id,'RFC822')"
   ]
  },
  {
   "cell_type": "code",
   "execution_count": 29,
   "id": "a2a57ea1",
   "metadata": {},
   "outputs": [
    {
     "data": {
      "text/plain": [
       "[(b'25239 (RFC822 {651}',\n",
       "  b'Bcc: mattmcvay12345@gmail.com\\r\\nReturn-Path: <mattmcvay12345@gmail.com>\\r\\nReceived: from [192.168.1.13] (c-73-92-3-179.hsd1.ca.comcast.net. [73.92.3.179])\\r\\n        by smtp.gmail.com with ESMTPSA id a23-20020a62bd17000000b0050dc762817csm8285024pff.86.2022.05.04.08.24.34\\r\\n        for <mattmcvay12345@gmail.com>\\r\\n        (version=TLS1_3 cipher=TLS_AES_256_GCM_SHA384 bits=256/256);\\r\\n        Wed, 04 May 2022 08:24:34 -0700 (PDT)\\r\\nMessage-ID: <62729ab2.1c69fb81.1489a.453f@mx.google.com>\\r\\nDate: Wed, 04 May 2022 08:24:34 -0700 (PDT)\\r\\nFrom: mattmcvay12345@gmail.com\\r\\nSubject: Testing Python email\\r\\n\\r\\nHello, this is a test of my Python emailing capability.\\r\\n'),\n",
       " b' FLAGS (\\\\Seen))']"
      ]
     },
     "execution_count": 29,
     "metadata": {},
     "output_type": "execute_result"
    }
   ],
   "source": [
    "email_data"
   ]
  },
  {
   "cell_type": "code",
   "execution_count": 30,
   "id": "6ab6836a",
   "metadata": {},
   "outputs": [],
   "source": [
    "raw_email = email_data[0][1]"
   ]
  },
  {
   "cell_type": "code",
   "execution_count": 31,
   "id": "ff32287e",
   "metadata": {},
   "outputs": [],
   "source": [
    "raw_email_string = raw_email.decode('utf-8')"
   ]
  },
  {
   "cell_type": "code",
   "execution_count": 32,
   "id": "b985fd11",
   "metadata": {},
   "outputs": [],
   "source": [
    "import email"
   ]
  },
  {
   "cell_type": "code",
   "execution_count": 33,
   "id": "e525e391",
   "metadata": {},
   "outputs": [],
   "source": [
    "email_message = email.message_from_string(raw_email_string)"
   ]
  },
  {
   "cell_type": "code",
   "execution_count": 34,
   "id": "692dc244",
   "metadata": {},
   "outputs": [
    {
     "data": {
      "text/plain": [
       "<email.message.Message at 0x1348d4ffbb0>"
      ]
     },
     "execution_count": 34,
     "metadata": {},
     "output_type": "execute_result"
    }
   ],
   "source": [
    "email_message"
   ]
  },
  {
   "cell_type": "code",
   "execution_count": 35,
   "id": "6d3b7230",
   "metadata": {},
   "outputs": [
    {
     "name": "stdout",
     "output_type": "stream",
     "text": [
      "b'Hello, this is a test of my Python emailing capability.\\r\\n'\n"
     ]
    }
   ],
   "source": [
    "for part in email_message.walk():\n",
    "    \n",
    "    if part.get_content_type() == 'text/plain':\n",
    "        body = part.get_payload(decode=True)\n",
    "        print(body)"
   ]
  },
  {
   "cell_type": "code",
   "execution_count": 36,
   "id": "dce3fd78",
   "metadata": {},
   "outputs": [
    {
     "data": {
      "text/plain": [
       "<email.message.Message at 0x1348d6213a0>"
      ]
     },
     "execution_count": 36,
     "metadata": {},
     "output_type": "execute_result"
    }
   ],
   "source": [
    "M.select(\"Craigslist\")\n",
    "typ2, data2 = M.search(None,'SUBJECT \"Your CARFAX Report Receipt\"')\n",
    "email_id2 = data2[0]\n",
    "result2 , email_data2 = M.fetch(email_id2,'RFC822')\n",
    "raw_email2 = email_data2[0][1]\n",
    "raw_email_string2 = raw_email2.decode('utf-8')\n",
    "email_message2 = email.message_from_string(raw_email_string2)\n",
    "email_message2"
   ]
  },
  {
   "cell_type": "code",
   "execution_count": 38,
   "id": "1bebdc8e",
   "metadata": {},
   "outputs": [
    {
     "name": "stdout",
     "output_type": "stream",
     "text": [
      "b'<!DOCTYPE html>\\r\\n<html lang=\"en\" xmlns=\"http://www.w3.org/1999/xhtml\" xmlns:v=\"urn:schemas-microsoft-com:vml\" xmlns:o=\"urn:schemas-microsoft-com:office:office\">\\r\\n\\r\\n  <head>\\r\\n    <meta charset=\"utf-8\">\\r\\n    <!-- utf-8 works for most cases -->\\r\\n    <meta name=\"viewport\" content=\"width=device-width\">\\r\\n    <!-- Forcing initial-scale shouldn\\'t be necessary -->\\r\\n    <meta http-equiv=\"X-UA-Compatible\" content=\"IE=edge\">\\r\\n    <!-- Use the latest (edge) version of IE rendering engine -->\\r\\n    <meta name=\"x-apple-disable-message-reformatting\">\\r\\n    <!-- Disable auto-scale in iOS 10 Mail entirely -->\\r\\n    <title></title>\\r\\n    <!-- Desktop Outlook chokes on web font references and defaults to Times New Roman, so we force a safe fallback font. -->\\r\\n    <!--[if mso]>\\r\\n\\t\\t<style>\\r\\n\\t\\t\\t* {\\r\\n\\t\\t\\t\\tfont-family: sans-serif !important;\\r\\n\\t\\t\\t}\\r\\n\\t\\t</style>\\r\\n\\t<![endif]-->\\r\\n\\r\\n\\r\\n    <!--[if !mso]><!-->\\r\\n    <link href=\"https://fonts.googleapis.com/css?family=Roboto:300,400,500\" rel=\"stylesheet\">\\r\\n    <!--<![endif]-->\\r\\n\\r\\n    <!-- Web Font / @font-face : END -->\\r\\n\\r\\n    <!-- CSS Reset -->\\r\\n    <style>\\r\\n      /* What it does: Remove spaces around the email design added by some email clients. */\\r\\n\\r\\n      /* Beware: It can remove the padding / margin and add a background color to the compose a reply window. */\\r\\n\\r\\n      html,\\r\\n      body {\\r\\n        margin: 0 auto !important;\\r\\n        padding: 0 !important;\\r\\n        height: 100% !important;\\r\\n        width: 100% !important;\\r\\n        font-family: \"Roboto\", helvetica, sans-serif;\\r\\n      }\\r\\n\\r\\n      /* What it does: Stops email clients resizing small text. */\\r\\n\\r\\n      * {\\r\\n        -ms-text-size-adjust: 100%;\\r\\n        -webkit-text-size-adjust: 100%;\\r\\n      }\\r\\n\\r\\n      div,\\r\\n      p,\\r\\n      a,\\r\\n      li,\\r\\n      td {\\r\\n        -webkit-text-size-adjust: none;\\r\\n      }\\r\\n\\r\\n      /* What it does: Centers email on Android 4.4 */\\r\\n\\r\\n      div[style*=\"margin: 16px 0\"] {\\r\\n        margin: 0 !important;\\r\\n      }\\r\\n\\r\\n      /* What it does: Stops Outlook from adding extra spacing to tables. */\\r\\n\\r\\n      table,\\r\\n      td {\\r\\n        mso-table-lspace: 0pt !important;\\r\\n        mso-table-rspace: 0pt !important;\\r\\n      }\\r\\n\\r\\n      /* What it does: Fixes webkit padding issue. Fix for Yahoo mail table alignment bug. Applies table-layout to the first 2 tables then removes for anything nested deeper.  */\\r\\n\\r\\n      table {\\r\\n        border-spacing: 0 !important;\\r\\n        border-collapse: collapse !important;\\r\\n        table-layout: fixed !important;\\r\\n        margin: 0 auto !important;\\r\\n      }\\r\\n\\r\\n      table table table {\\r\\n        table-layout: auto;\\r\\n      }\\r\\n\\r\\n      /* What it does: Uses a better rendering method when resizing images in IE. */\\r\\n\\r\\n      img {\\r\\n        -ms-interpolation-mode: bicubic;\\r\\n      }\\r\\n\\r\\n      /* What it does: A work-around for email clients meddling in triggered links. */\\r\\n\\r\\n      *[x-apple-data-detectors],\\r\\n      /* iOS */\\r\\n\\r\\n      .x-gmail-data-detectors,\\r\\n      /* Gmail */\\r\\n\\r\\n      .x-gmail-data-detectors *,\\r\\n      .aBn {\\r\\n        border-bottom: 0 !important;\\r\\n        cursor: default !important;\\r\\n        color: inherit !important;\\r\\n        text-decoration: none !important;\\r\\n        font-size: inherit !important;\\r\\n        font-family: inherit !important;\\r\\n        font-weight: inherit !important;\\r\\n        line-height: inherit !important;\\r\\n      }\\r\\n\\r\\n      /* What it does: Prevents Gmail from displaying an download button on large, non-linked images. */\\r\\n\\r\\n      .a6S {\\r\\n        display: none !important;\\r\\n        opacity: 0.01 !important;\\r\\n      }\\r\\n\\r\\n      /* If the above doesn\\'t work, add a .g-img class to any image in question. */\\r\\n\\r\\n      img.g-img+div {\\r\\n        display: none !important;\\r\\n      }\\r\\n\\r\\n      /* What it does: Prevents underlining the button text in Windows 10 */\\r\\n\\r\\n      .button-link {\\r\\n        text-decoration: none !important;\\r\\n      }\\r\\n\\r\\n      /* What it does: Removes right gutter in Gmail iOS app: https://github.com/TedGoas/Cerberus/issues/89  */\\r\\n\\r\\n      /* Create one of these media queries for each additional viewport size you\\'d like to fix */\\r\\n\\r\\n      /* Thanks to Eric Lepetit (@ericlepetitsf) for help troubleshooting */\\r\\n\\r\\n      @media only screen and (min-device-width: 375px) and (max-device-width: 413px) {\\r\\n        /* iPhone 6 and 6+ */\\r\\n        .email-container {\\r\\n          min-width: 375px !important;\\r\\n        }\\r\\n      }\\r\\n\\r\\n    </style>\\r\\n\\r\\n    <!-- Progressive Enhancements -->\\r\\n    <style>\\r\\n      /* What it does: Hover styles for buttons */\\r\\n\\r\\n      .button-td,\\r\\n      .button-a {\\r\\n        transition: all 100ms ease-in;\\r\\n      }\\r\\n\\r\\n      .button-td:hover,\\r\\n      .button-a:hover {\\r\\n        background: #649B35 !important;\\r\\n        border-color: #649B35 !important;\\r\\n      }\\r\\n\\r\\n      /* Media Queries */\\r\\n\\r\\n      @media screen and (max-width: 600px) {\\r\\n        .email-container {\\r\\n          width: 100% !important;\\r\\n          margin: auto !important;\\r\\n        }\\r\\n        .button-a {\\r\\n          width: 100% !important;\\r\\n        }\\r\\n        /* What it does: Forces elements to resize to the full width of their container. Useful for resizing images beyond their max-width. */\\r\\n        .fluid {\\r\\n          max-width: 100% !important;\\r\\n          height: auto !important;\\r\\n          margin-left: auto !important;\\r\\n          margin-right: auto !important;\\r\\n        }\\r\\n        /* What it does: Forces table cells into full-width rows. */\\r\\n        .stack-column,\\r\\n        .stack-column-center {\\r\\n          display: block !important;\\r\\n          width: 100% !important;\\r\\n          max-width: 100% !important;\\r\\n          direction: ltr !important;\\r\\n        }\\r\\n        /* And center justify these ones. */\\r\\n        .stack-column-center {\\r\\n          text-align: center !important;\\r\\n        }\\r\\n        /* And adjust padding */\\r\\n        .stack-column-center {\\r\\n          padding: 4px 0 !important;\\r\\n        }\\r\\n        /* For the 2-column layout */\\r\\n        .email-container table {\\r\\n          table-layout: auto !important;\\r\\n        }\\r\\n        /* What it does: Generic utility class for centering. Useful for images, buttons, and nested tables. */\\r\\n        .center-on-narrow {\\r\\n          text-align: center !important;\\r\\n          margin-left: auto !important;\\r\\n          margin-right: auto !important;\\r\\n          float: none !important;\\r\\n        }\\r\\n        /* What it does: Adjust typography on small screens to improve readability */\\r\\n        .email-container p {\\r\\n          font-size: 17px !important;\\r\\n          line-height: 22px !important;\\r\\n        }\\r\\n        .email-container h1 {\\r\\n          font-size: 24px !important;\\r\\n          line-height: 32px !important;\\r\\n        }\\r\\n        .email-container h2 {\\r\\n          font-size: 18px !important;\\r\\n          line-height: 26px !important;\\r\\n        }\\r\\n        .conf-code,\\r\\n        .stack-column-center.conf-code {\\r\\n          padding: 7px 12px !important;\\r\\n        }\\r\\n        .conf-row {\\r\\n          width: 37% !important;\\r\\n        }\\r\\n        .carfox {\\r\\n          padding-top: 24px !important;\\r\\n        }\\r\\n      }\\r\\n\\r\\n    </style>\\r\\n\\r\\n    <!-- What it does: Makes background images in 72ppi Outlook render at correct size. -->\\r\\n    <!--[if gte mso 9]>\\r\\n    <xml>\\r\\n      <o:OfficeDocumentSettings>\\r\\n        <o:AllowPNG/>\\r\\n        <o:PixelsPerInch>96</o:PixelsPerInch>\\r\\n     </o:OfficeDocumentSettings>\\r\\n    </xml>\\r\\n    <![endif]-->\\r\\n\\r\\n  </head>\\r\\n\\r\\n  <body width=\"100%\" bgcolor=\"#eeeeee\" style=\"margin: 0; mso-line-height-rule: exactly;\">\\r\\n    <!--[if mso]>\\r\\n    <style type=\\xe2\\x80\\x9dText/css\\xe2\\x80\\x9d>\\r\\n        td{font-family: Arial, sans-serif;}\\r\\n    </style>\\r\\n    <![endif]-->\\r\\n    <center style=\"width: 100%; background: #eeeeee; text-align: left;\">\\r\\n\\r\\n      <!-- Email Header / Logo Image : BEGIN -->\\r\\n      <table role=\"presentation\" cellspacing=\"0\" cellpadding=\"0\" border=\"0\" align=\"center\" width=\"600\" style=\"margin:0 auto 0!important;\" class=\"email-container\" bgcolor=\"#3777BC\" style=\"background-color:#3777BC;\">\\r\\n        <tr>\\r\\n          <td style=\"padding: 15px 16px; text-align: left;font-family: Roboto, Helvetica, sans-serif;\">\\r\\n            <img src=\"cid:CARFAX-Logo\" width=\"160\" height=\"30\" alt=\"alt_Text\" border=\"0\" style=\"height: auto; line-height: 60px; color: #555555;\">\\r\\n          </td>\\r\\n          <td style=\"text-align:right;padding: 15px 16px;font-family: Roboto, Helvetica, sans-serif; font-size: 14px;line-height:24px;font-weight:400;color:#ffffff;\">\\r\\n            <a href=\"http://clicks.email.carfax.com/ls/click?upn=L6LVX9tVFxrmtMLkH9bN66f2RhVqjh8-2Fxuwn1gTTbmwwDi8TZLxSNY4zSSRYQJuarafv_Jp-2BGq8pWgAQ1TKPGENMG0JsdqPYlF-2FQgS91xtst57cwQcdD5hxY7-2BNs1YHi2yh0tEXY-2BhM-2FmgPlti7bw1euZCktA9BJkBmW-2BEzcqwCkLOLz9Wib6N3FSUj8Ut3F7GVA8r2cNM75BH-2BfKcLpWL5FP-2BHQiiFOhKqPC7-2F3WBvcPbntuDkXd-2B5HDoP3j9rz6QWRCPl-2F4yd2JwDnbzEqNZ8QnsXsFPtMyLGV6f98UqjmgVjRAJkFI04Sb2uyiFSGODgnWWcmdLISv3ki7dgGW5crqMhRlx7NTGRzA91Gi-2FEUfliimuAtcDQlKwwXX7xjkxVxmbxQyQHGE3bjYgx7V37cnkmLKKfn8uYzEAV1ZN-2BujmFmgH8EN7eI1u1hFOx6GVUI7i9uLeIyvLdGHsnnkqdEttrlT4DJjdBuri73fDhAwGZENPlIBmjsSKxqhQQytJvfmHoXw4rGJnrpzT9djaqVp-2BSdU5zySuwi4BMZEehHOIuHESI-2BdU0-2FWVYlyrEzFJYGpMZmu3a5QjlyvGGnFZVb7-2Fn84xXbO79gHK0v6dXJNGR2mc2GGJhfvrKFihF79YHKHHt1mWFpMJwZUd5uV6Fp042iT-2FCpBbB8NHnDrSocCXsFqtoANpA-2B0SnA1NkJgb3le\" style=\"text-decoration:none; color:#ffffff;\">Sign In</a> |\\r\\n            <a href=\"http://clicks.email.carfax.com/ls/click?upn=L6LVX9tVFxrmtMLkH9bN66EBvhDyQ3MfDf0KaeJ50PDHKyjBYN59JKH7GRUeT0c0feSz_Jp-2BGq8pWgAQ1TKPGENMG0JsdqPYlF-2FQgS91xtst57cwQcdD5hxY7-2BNs1YHi2yh0tEXY-2BhM-2FmgPlti7bw1euZCktA9BJkBmW-2BEzcqwCkLOLz9Wib6N3FSUj8Ut3F7GVA8r2cNM75BH-2BfKcLpWL5FP-2BHQiiFOhKqPC7-2F3WBvcPbntuDkXd-2B5HDoP3j9rz6QWRCPl-2F4yd2JwDnbzEqNZ8QnsXsFPtMyLGV6f98UqjmgVjRAJkFI04Sb2uyiFSGODgnWWcmdLISv3ki7dgGW5crqMhRlx7NTGRzA91Gi-2FEUfliimuAtcDQlKwwXX7xjkxVxmbxQyQHGE3bjYgx7V37cnkmLKKfn8uYzEAV1ZN-2BujmFmgH8EN7eI1u1hFOx6GVUI7i9uLeIyvLdGHsnnkqdEttrlT4DJjdBuri73fDhAwGZGk5oMdEtsz8I3RaBF31q-2F0-2FGDKChUmfClJpvHCKy-2FZDuwXe-2BZmQgDqgZv5NUIvvbFoT9yagUiiUQQgot6oIlBEPj0wWaZ-2FXrqh42IXMOimYW8PPulg0VTFbTwWeKOIEcvfzIkSi323vHeqOiyd-2BY0aMCqJ8ltjW8pr5Jfi0IxjB2pTXI4FwPjWUw-2Bqwul0omECJO4kaQ-2FOUHkDZxR-2FWd-2Fc\" style=\"text-decoration:none; color:#ffffff;\">Help</a>\\r\\n          </td>\\r\\n        </tr>\\r\\n      </table>\\r\\n      <!-- Email Header : END -->\\r\\n      <table role=\"presentation\" cellspacing=\"0\" cellpadding=\"0\" border=\"0\" align=\"center\" width=\"600\" style=\"margin: auto;\" bgcolor=\"#f7f7f7\" class=\"email-container\">\\r\\n        <tr>\\r\\n          <td class=\"center-on-narrow\" style=\"padding: 24px 16px 0;\">\\r\\n            <h1 style=\"font-family: Roboto, Helvetica, sans-serif; font-size: 24px;line-height: 32px; color: #212121; font-weight: 500;padding:0;margin:0\">Matthew McVay</h1>\\r\\n          </td>\\r\\n        </tr>\\r\\n      </table>\\r\\n      <table role=\"presentation\" cellspacing=\"0\" cellpadding=\"0\" border=\"0\" align=\"center\" width=\"600\" style=\"margin: auto;\" bgcolor=\"#f7f7f7\" class=\"email-container\">\\r\\n        <tr>\\r\\n          <td class=\"stack-column-center \" style=\"padding:8px 16px 14px;font-family: Roboto, Helvetica, sans-serif; font-size: 14px;line-height:24px;font-weight:400;color:#212121;\">Thanks for your purchase!</td>\\r\\n          <td class=\"stack-column-center\" style=\"text-align:right;padding:8px 16px 14px;font-family: Roboto, Helvetica, sans-serif; font-size: 14px;line-height:24px;font-weight:400;color:#212121;\">mattmcvay12345@gmail.com</td>\\r\\n        </tr>\\r\\n      </table>\\r\\n      <!--\\r\\n\\t\\t <table role=\"presentation\" cellspacing=\"0\" cellpadding=\"0\" border=\"0\" align=\"center\" width=\"600\" style=\"margin: auto;\" bgcolor=\"#f7f7f7\" class=\"email-container\">\\r\\n\\t\\t<tr>\\r\\n                <td style=\"text-align:center;font-family: Roboto, Helvetica, sans-serif; font-size: 12px;line-height: 18px; color: #424242;\">\\r\\n                        CARFAX  <a href=\"http://clicks.email.carfax.com/ls/click?upn=L6LVX9tVFxrmtMLkH9bN64xvwnZ-2FDz3mOzPNE2hDE33JYhRaaQ8lCbmZlYsvJCZrAdjenr-2FXF0-2FpXB5ovh11sNfEUsuFoMro6EpJHLjUDHs-3DhmJ7_Jp-2BGq8pWgAQ1TKPGENMG0JsdqPYlF-2FQgS91xtst57cwQcdD5hxY7-2BNs1YHi2yh0tEXY-2BhM-2FmgPlti7bw1euZCktA9BJkBmW-2BEzcqwCkLOLz9Wib6N3FSUj8Ut3F7GVA8r2cNM75BH-2BfKcLpWL5FP-2BHQiiFOhKqPC7-2F3WBvcPbntuDkXd-2B5HDoP3j9rz6QWRCPl-2F4yd2JwDnbzEqNZ8QnsXsFPtMyLGV6f98UqjmgVjRAJkFI04Sb2uyiFSGODgnWWcmdLISv3ki7dgGW5crqMhRlx7NTGRzA91Gi-2FEUfliimuAtcDQlKwwXX7xjkxVxmbxQyQHGE3bjYgx7V37cnkmLKKfn8uYzEAV1ZN-2BujmFmgH8EN7eI1u1hFOx6GVUI7i9uLeIyvLdGHsnnkqdEttrlT4DJjdBuri73fDhAwGZFNiL9s2R5JQVK6CemXHgL850dzPxwAZiwY-2B0K5JM5DasrQVg4HhJZ7PjAdOUlKpzDw1l7eZr0pl5o34Kq8-2Fnule2fpIvjZaL8iVGctW3VY8u00nT22oiD1KdzwfUITMp3zYvB23TnAFkNkTrYOpGWIj0XqDTb2JAinTgekIs5gL1rdeS8-2FdEt6Fb-2Bd9Xz1lsGcSD5QFFcM1XdEIooRzegL\" style=\"color:#3777bc; text-decoration:none;\">Consumer Agreement</a>\\r\\n                </td>\\r\\n            </tr>\\r\\n\\t\\t</table>\\r\\n\\t\\t\\t-->\\r\\n      <table role=\"presentation\" cellspacing=\"0\" cellpadding=\"0\" border=\"0\" align=\"center\" width=\"600\" style=\"margin: auto;\" bgcolor=\"#f7f7f7\" class=\"email-container\">\\r\\n        <tr>\\r\\n          <td style=\"padding: 0 16px;\">\\r\\n            <table width=\"100%\" cellpadding=\"0\" cellspacing=\"0\" border=\"0\" style=\"max-width:600px\">\\r\\n              <tr>\\r\\n                <td height=\"1\" style=\"border-top:4px solid #3777BC; font-size:1px; height:1px; line-height:1px;\">&nbsp;</td>\\r\\n              </tr>\\r\\n            </table>\\r\\n          </td>\\r\\n        </tr>\\r\\n      </table>\\r\\n      <table role=\"presentation\" cellspacing=\"0\" cellpadding=\"0\" border=\"0\" align=\"center\" width=\"600\" bgcolor=\"#f7f7f7\" class=\"email-container\">\\r\\n        <tr>\\r\\n          <td width=\"45%\" class=\"stack-column-center\" style=\"padding-bottom:24px; padding-top:14px!important;\">\\r\\n            <table role=\"presentation\" width=\"100%\" cellspacing=\"0\" cellpadding=\"0\" border=\"0\" align=\"center\" bgcolor=\"#f7f7f7\" class=\"email-container\">\\r\\n              <tr>\\r\\n                <td width=\"40%\" valign=\"top\" class=\"conf-row\" style=\"font-family: Roboto, Helvetica, sans-serif; font-size: 14px;line-height:24px;font-weight:400;color:#424242; text-align:left;padding:0 6px 0 16px;\">\\r\\n                  Confirmation#\\r\\n                </td>\\r\\n                <td valign=\"top\" style=\"font-family: Roboto, Helvetica, sans-serif; font-size: 16px;line-height:24px;font-weight:500;color:#424242;text-align:left;\">\\r\\n                  C22218BDE0A079DC464\\r\\n                </td>\\r\\n              </tr>\\r\\n            </table>\\r\\n          </td>\\r\\n          <td class=\"stack-column-center\" style=\"padding-bottom:24px;padding-top:12px;\">\\r\\n            <table role=\"presentation\" cellspacing=\"0\" cellpadding=\"0\" border=\"0\" align=\"center\" bgcolor=\"#f7f7f7\" class=\"email-container\" width=\"100%\">\\r\\n              <tr>\\r\\n                <td width=\"40%\" valign=\"top\" class=\"conf-row\" style=\"font-family: Roboto, Helvetica, sans-serif; font-size: 14px;line-height:24px;font-weight:400;color:#424242;text-align:left;padding:0 6px 0 16px;\">\\r\\n                  Approval Code\\r\\n                </td>\\r\\n                <td valign=\"top\" style=\"font-family: Roboto, Helvetica, sans-serif; font-size: 16px;line-height:24px;font-weight:500;color:#424242;text-align:left;\">\\r\\n                  026771\\r\\n                </td>\\r\\n              </tr>\\r\\n            </table>\\r\\n          </td>\\r\\n        </tr>\\r\\n      </table>\\r\\n      <table role=\"presentation\" cellspacing=\"0\" cellpadding=\"0\" border=\"0\" align=\"center\" width=\"600\" style=\"margin: auto;\" bgcolor=\"#f7f7f7\" class=\"email-container\">\\r\\n        <tr>\\r\\n          <td width=\"35%\" class=\"stack-column-center carfox\" valign=\"top\" style=\"padding:0 16px;\">\\r\\n            <img src=\"cid:carfox_with_logo@1x\" width=\"143\" alt=\"\" style=\"width:143px; height:auto;vertical-align:top\">\\r\\n          </td>\\r\\n          <td width=\"65%\" class=\"stack-column-center\" valign=\"top\" bgcolor=\"#f7f7f7\" style=\"padding:0px 16px;\">\\r\\n            <table width=\"100%\" cellpadding=\"0\" cellspacing=\"0\" border=\"0\" style=\"max-width:600px\">\\r\\n              <tr>\\r\\n                <td height=\"1\" style=\"border-top:1px solid #e0e0e0; font-size:1px; height:1px; line-height:1px;\">&nbsp;</td>\\r\\n              </tr>\\r\\n            </table>\\r\\n            <table role=\"presentation\" cellspacing=\"0\" cellpadding=\"0\" border=\"0\" align=\"center\" style=\"margin: auto;\" bgcolor=\"#f7f7f7\" width=\"100%\" class=\"email-container\">\\r\\n              <tr>\\r\\n                <td class=\"conf-code\" style=\"padding-top:8px;padding-bottom:14px;font-family: Robot, Helvetica, sans-serif; font-size: 14px; line-height: 1; color: #424242;text-align:left;\">\\r\\n                  CARFAX Report\\r\\n                  <br>\\r\\n                  <span style=\"font-family: Robot, Helvetica, sans-serif;font-size:12px; line-height:1;color:#9e9e9e;\">Quantity:\\r\\n                  1</span>\\r\\n                </td>\\r\\n                <td class=\"conf-code\" align=\"right\" valign=\"top\" style=\"padding-top:8px; font-family: Robot, Helvetica, sans-serif; font-size: 14px; line-height: 22px; color: #424242;\">\\r\\n                  $39.99\\r\\n                </td>\\r\\n              </tr>\\r\\n              <tr>\\r\\n                <td class=\"conf-code\" style=\"font-family: Robot, Helvetica, sans-serif; font-size: 14px; line-height: 22px; color:#424242;text-align:left;\">\\r\\n                  CA Sales Tax\\r\\n                </td>\\r\\n                <td class=\"conf-code\" align=\"right\" style=\"font-family: Robot, Helvetica, sans-serif; font-size: 14px; line-height: 22px; color: #424242;\">\\r\\n                  $0.00\\r\\n                </td>\\r\\n              </tr>\\r\\n\\r\\n              <tr>\\r\\n                <td colspan=\"2\" style=\"padding:8px 0 8px;\">\\r\\n                  <table width=\"100%\" cellpadding=\"0\" cellspacing=\"0\" border=\"0\">\\r\\n                    <tr>\\r\\n                      <td height=\"1\" style=\"border-top:1px solid #cccccc; font-size:1px; height:1px; line-height:1px\">&nbsp;</td>\\r\\n                    </tr>\\r\\n                  </table>\\r\\n                </td>\\r\\n              </tr>\\r\\n              <tr>\\r\\n                <td class=\"conf-code\" valign=\"top\" style=\"font-family: Robot, Helvetica, sans-serif; font-size: 16px;font-weight: 500!important;line-height: 22px; color: #424242;padding-bottom:8px;text-align:left;\">\\r\\n                  <strong>Total</strong>\\r\\n                </td>\\r\\n                <td class=\"conf-code\" align=\"right\" style=\"font-family: Roboto, Helvetica, sans-serif; font-size: 16px;font-weight:500!important;line-height: 22px; color: #424242;padding-bottom:8px;\">\\r\\n                  <strong>$39.99</strong>\\r\\n\\r\\n                </td>\\r\\n              </tr>\\r\\n              <tr>\\r\\n                <td colspan=\"2\" style=\"padding:8px 0 8px;\">\\r\\n                  <table width=\"100%\" cellpadding=\"0\" cellspacing=\"0\" border=\"0\">\\r\\n                    <tr>\\r\\n                      <td class=\"conf-code\" align=\"right\" style=\"padding-top: 16px;font-family: Roboto, Helvetica, sans-serif; font-size: 14px;line-height:24px;font-weight:400;color:#212121;\">\\r\\n                        Purchase subject to\\r\\n                        <a href=\"http://clicks.email.carfax.com/ls/click?upn=L6LVX9tVFxrmtMLkH9bN64xvwnZ-2FDz3mOzPNE2hDE33JYhRaaQ8lCbmZlYsvJCZrAdjenr-2FXF0-2FpXB5ovh11sNfEUsuFoMro6EpJHLjUDHs-3Ddn1w_Jp-2BGq8pWgAQ1TKPGENMG0JsdqPYlF-2FQgS91xtst57cwQcdD5hxY7-2BNs1YHi2yh0tEXY-2BhM-2FmgPlti7bw1euZCktA9BJkBmW-2BEzcqwCkLOLz9Wib6N3FSUj8Ut3F7GVA8r2cNM75BH-2BfKcLpWL5FP-2BHQiiFOhKqPC7-2F3WBvcPbntuDkXd-2B5HDoP3j9rz6QWRCPl-2F4yd2JwDnbzEqNZ8QnsXsFPtMyLGV6f98UqjmgVjRAJkFI04Sb2uyiFSGODgnWWcmdLISv3ki7dgGW5crqMhRlx7NTGRzA91Gi-2FEUfliimuAtcDQlKwwXX7xjkxVxmbxQyQHGE3bjYgx7V37cnkmLKKfn8uYzEAV1ZN-2BujmFmgH8EN7eI1u1hFOx6GVUI7i9uLeIyvLdGHsnnkqdEttrlT4DJjdBuri73fDhAwGZHg3vGQZgRlOTleKV-2FrwmHOVRcW3xJsnV7F2wXnbQQY4nZQzRW0v2N1C8vuN90UWJIehV-2Fup71F3JQMR8HdN6jJcK0YARjUHj3vrY-2BvKJPsjGN-2BcHfW6cmkPE8lI-2FgCnQWswFDe6Zk1F1jB7ydT0eFnSg3mylQ3aajWk3TCJ6edAGG2oLkB5iXpSgLFFiRUK8TXXTfdDdf5u6pmnI-2B1Jue4\" style=\"color:#3777bc; text-decoration:none;\">Consumer Agreement\\r\\n                        </a>\\r\\n                      </td>\\r\\n                    </tr>\\r\\n                  </table>\\r\\n                </td>\\r\\n              </tr>\\r\\n            </table>\\r\\n          </td>\\r\\n        </tr>\\r\\n      </table>\\r\\n      <table role=\"presentation\" cellspacing=\"0\" cellpadding=\"0\" border=\"0\" align=\"center\" width=\"600\" style=\"margin: auto;\" bgcolor=\"#f7f7f7\" class=\"email-container\">\\r\\n        <tr>\\r\\n          <td align=\"center\" style=\"text-align: center; padding-top:34px;padding-bottom:24px; padding-left:12px; padding-right:12px;\">\\r\\n            <!-- Button : BEGIN -->\\r\\n            <div>\\r\\n              <!--[if mso]>\\r\\n                        <v:roundrect xmlns:v=\"urn:schemas-microsoft-com:vml\" xmlns:w=\"urn:schemas-microsoft-com:office:word\" href=\"https://www.carfax.com/showroom/#/dashboard\" style=\"height:48px;v-text-anchor:middle;width:190px;\" arcsize=\"7%\" stroke=\"f\" fillcolor=\"#7DC243\">\\r\\n                            <w:anchorlock/>\\r\\n                            <center>\\r\\n                        <![endif]-->\\r\\n              <a class=\"button-a\" href=\"http://clicks.email.carfax.com/ls/click?upn=L6LVX9tVFxrmtMLkH9bN66f2RhVqjh8-2Fxuwn1gTTbmyRuO5IXq2zFVReHOdfUAhOGFSJ5rFg3pEKz7q-2BzprrwA-3D-3DPdpN_Jp-2BGq8pWgAQ1TKPGENMG0JsdqPYlF-2FQgS91xtst57cwQcdD5hxY7-2BNs1YHi2yh0tEXY-2BhM-2FmgPlti7bw1euZCktA9BJkBmW-2BEzcqwCkLOLz9Wib6N3FSUj8Ut3F7GVA8r2cNM75BH-2BfKcLpWL5FP-2BHQiiFOhKqPC7-2F3WBvcPbntuDkXd-2B5HDoP3j9rz6QWRCPl-2F4yd2JwDnbzEqNZ8QnsXsFPtMyLGV6f98UqjmgVjRAJkFI04Sb2uyiFSGODgnWWcmdLISv3ki7dgGW5crqMhRlx7NTGRzA91Gi-2FEUfliimuAtcDQlKwwXX7xjkxVxmbxQyQHGE3bjYgx7V37cnkmLKKfn8uYzEAV1ZN-2BujmFmgH8EN7eI1u1hFOx6GVUI7i9uLeIyvLdGHsnnkqdEttrlT4DJjdBuri73fDhAwGZHpQYogxXLUWi6PMHC5Ypaal-2FWvEfnjBVPuuXYB-2FWBh5yhBtyuSl5tZB-2B5Jrfc8I5Q5fcZp6EWpQoifHuVtGjUQX507EPjwwKxEnsRPS-2FV4vbELfGZJ7alN5oq8RlWPOrAwJAA24LWYWuYoZPWpgiA7rvKJYzdPL0vz8Tw2NjzjHD3NQPhoFbgDG2hXg4f6NJkrApQOLCXwU-2B0A0r48GY9f\" style=\"background-color:#7DC243;border-radius:3px;color:#ffffff;display:inline-block;font-family:sans-serif;font-size:16px;font-weight:500;line-height:48px;text-align:center;text-decoration:none;width:190px;-webkit-text-size-adjust:none;\">Run CARFAX Report</a>\\r\\n              <!--[if mso]>\\r\\n                            </center>\\r\\n                        </v:roundrect>\\r\\n                        <![endif]-->\\r\\n            </div>\\r\\n            <!-- Button : END -->\\r\\n          </td>\\r\\n        </tr>\\r\\n\\r\\n      </table>\\r\\n      <!-- Email Body : END -->\\r\\n\\r\\n      <!-- Footer: BEGIN -->\\r\\n      <table role=\"presentation\" bgcolor=\"eeeeee\" cellspacing=\"0\" cellpadding=\"0\" border=\"0\" align=\"center\" width=\"600\" height=\"60\" style=\"margin: auto;background-color:#eeeeee;border-top:1px solid #cccccc; \" class=\"email-container\">\\r\\n        <tbody>\\r\\n          <tr>\\r\\n            <td class=\"footer-text\" align=\"center\" style=\"text-align:center; line-height:14px; color:#9e9e9e;padding:20px 16px 10px;font-family: Roboto, Helvetica Neue, Helvetica, Arial, sans-serif!important;font-size:12px;\">\\r\\n              <p style=\"font-size:12px!important;\">CARFAX Inc.\\r\\n                <br> 5860 Trinity Parkway, Suite 600\\r\\n                <br> Centreville, VA 2012.</p>\\r\\n              <p style=\"font-size:12px!important\">This emails was sent to mattmcvay12345@gmail.com.</p>\\r\\n              <p style=\"font-size:12px!important\">transaction id: 30eaa0d5e8c35778727dd8653ca0267e</p>\\r\\n\\r\\n\\r\\n              <p style=\"font-size:12px!important\">Copyright &copy; 2018 CARFAX, Inc. All rights reserved.</p>\\r\\n\\r\\n            </td>\\r\\n          </tr>\\r\\n        </tbody>\\r\\n      </table>\\r\\n\\r\\n    </center>\\r\\n  <img src=\"http://clicks.email.carfax.com/wf/open?upn=5Tu3grjzuhrkVENmxftkF5QAA-2FzY55VfF6KSn29lvS6Vjm3CsRiAad1ZdcbHsy7StYLXYbNMZw79Z6L8Q-2Bj7zj37JDK-2BLva1oQXXtw1cLpY9W0iMVexoWDKykyrync6RfoQKIqUfFS02uOCAOI2ETZWjL3xEPnCsutn0UoR2IstGN2gGQU1eOv87U6PKx7P23SHapRXxreN-2BAo69W14sOy3i5ew5WhJW-2BmCWmKm3UGzX-2FxB-2Bv5NxTJ64Ov862wl1bRB7BdmelWYIv5DuOdez7lothNLaacsCCEthaJ6hDzGBuyrFfVHNE0RQ6vF7DgUyz-2Bdf6OLx1TB9DiQF9hNjRzfSmCUW8f5P7cXjvUiQn3WOGCmJASRpC-2FsqCG9APjvRhRFmAqWZdKDIwZdCkaaotTnpOKTdc5b7hUpNul-2Bba-2B0zQx0ooqzm257uoeSHJfoSbJR9jZEvIkk-2BtCfTHggGDI91lR50VIU6QTQ-2FYfomJwcOnFOxfbLpyNIt6i-2FDBH2n2Pvg8ewL8WPGUIqT3PyQRcuC9iQ4N54Lnhta1fX-2B0NWZOwFhnpf-2BmsKD4tTldL4nhvX8aPwU2Jqij5Bb2m2iJ6uAYppTv3gwDQkok5BI0w-2BVZuVRB5XKqsDju2EQqXGQ\" alt=\"\" width=\"1\" height=\"1\" border=\"0\" style=\"height:1px !important;width:1px !important;border-width:0 !important;margin-top:0 !important;margin-bottom:0 !important;margin-right:0 !important;margin-left:0 !important;padding-top:0 !important;padding-bottom:0 !important;padding-right:0 !important;padding-left:0 !important;\"/></body>\\r\\n\\r\\n</html>\\r\\n'\n"
     ]
    }
   ],
   "source": [
    "for part in email_message2.walk():\n",
    "    \n",
    "    if part.get_content_type() == 'text/html':\n",
    "        body = part.get_payload(decode=True)\n",
    "        print(body)"
   ]
  },
  {
   "cell_type": "markdown",
   "id": "3fe8083d",
   "metadata": {},
   "source": []
  },
  {
   "cell_type": "markdown",
   "id": "cb09de3c",
   "metadata": {},
   "source": [
    "Keyword|Definition\n",
    "-:|-:\n",
    "'ALL'|Returns all messages in your email folder. Often there are size limits from imaplib.  To change these use imaplib._MAXLINE = 100 , where 100 is whatever you want the limit to be.\n",
    "'BEFORE date'|Returns all messages before the date. Date must be formatted as 01-Nov-2000.\n",
    "'ON date'|Returns all messages on the date. Date must be formatted as 01-Nov-2000.\n",
    "'SINCE date'|Returns all messages after the date. Date must be formatted as 01-Nov-2000.\n",
    "'FROM some_string '|Returns all from the sender in the string. String can be an email, for example 'FROM               user@example.com' or just a string that may appear in the email, \"FROM example\"\n",
    "'TO some_string'|Returns all outgoing email to the email in the string. String can be an email, for example 'FROM user@example.com' or just a string that may appear in the email, \"FROM example\"\n",
    "'CC some_string' and/or 'BCC some_string'|Returns all messages in your email folder. Often there are size limits from imaplib.  To change these use imaplib._MAXLINE = 100 , where 100 is whatever you want the limit to be.\n",
    "'SUBJECT string','BODY string','TEXT \"string with spaces\"'|Returns all messages with the subject string or the string in the body of the email. If the string you are searching for has spaces in it, wrap it in double quotes.\n",
    "'SEEN', 'UNSEEN'|Returns all messages that have been seen or unseen. (Also known as read or unread)\n",
    "'ANSWERED', 'UNANSWERED'|Returns all messages that have been replied to or unreplied to. \n",
    "'DELETED', 'UNDELETED'|Returns all messages that have been deleted or that have not been deleted."
   ]
  },
  {
   "cell_type": "markdown",
   "id": "f2a4d13b",
   "metadata": {},
   "source": [
    "<table border='1' >\n",
    "<tr >\n",
    "<th align='center'>Keyword </th>\n",
    "<th align='center'>Definition</th>\n",
    "</tr>\n",
    "<tr>\n",
    "<td>'ALL'</td>\n",
    "<td>\n",
    "Returns all messages in your email folder. Often there are size limits from imaplib.\n",
    "To change these use imaplib._MAXLINE = 100 , where 100 is whatever you want the limit to be.\n",
    "</td>\n",
    "</tr>\n",
    "    \n",
    "<tr>\n",
    "<td>'BEFORE date'</td>\n",
    "<td>\n",
    "Returns all messages before the date. Date must be formatted as 01-Nov-2000.\n",
    "</td>\n",
    "</tr>\n",
    "    \n",
    "<tr>\n",
    "<td>'ON date'</td>\n",
    "<td>\n",
    "Returns all messages on the date. Date must be formatted as 01-Nov-2000.\n",
    "</td>\n",
    "</tr>\n",
    "    \n",
    "<tr>\n",
    "<td>'SINCE date'</td>\n",
    "<td>\n",
    "Returns all messages after the date. Date must be formatted as 01-Nov-2000.\n",
    "</td>\n",
    "</tr>\n",
    "    \n",
    "<tr>\n",
    "<td>'FROM some_string '</td>\n",
    "<td>\n",
    "Returns all from the sender in the string. String can be an email, for example 'FROM               user@example.com' or just a string that may appear in the email, \"FROM example\"\n",
    "</td>\n",
    "</tr>\n",
    "    \n",
    "<tr>\n",
    "<td>'TO some_string'</td>\n",
    "<td>\n",
    "Returns all outgoing email to the email in the string. String can be an email, for example 'FROM user@example.com' or just a string that may appear in the email, \"FROM example\"\n",
    "</td>\n",
    "</tr>\n",
    "    \n",
    "<tr>\n",
    "<td>'CC some_string' and/or 'BCC some_string'</td>\n",
    "<td>\n",
    "Returns all messages in your email folder. Often there are size limits from imaplib.\n",
    "To change these use imaplib._MAXLINE = 100 , where 100 is whatever you want the limit to be.\n",
    "</td>\n",
    "</tr>\n",
    "    \n",
    "<tr>\n",
    "<td>'SUBJECT string','BODY string','TEXT \"string with spaces\"'</td>\n",
    "<td>\n",
    "Returns all messages with the subject string or the string in the body of the email. If the string you are searching for has spaces in it, wrap it in double quotes.\n",
    "</td>\n",
    "</tr>\n",
    "    \n",
    "<tr>\n",
    "<td>'SEEN', 'UNSEEN'</td>\n",
    "<td>\n",
    "Returns all messages that have been seen or unseen. (Also known as read or unread)\n",
    "</td>\n",
    "</tr>\n",
    "    \n",
    "    \n",
    "<tr>\n",
    "<td>'ANSWERED', 'UNANSWERED'</td>\n",
    "<td>\n",
    "Returns all messages that have been replied to or unreplied to. \n",
    "</td>\n",
    "</tr>\n",
    "    \n",
    "    \n",
    "<tr>\n",
    "<td>'DELETED', 'UNDELETED'</td>\n",
    "<td>\n",
    "Returns all messages that have been deleted or that have not been deleted.\n",
    "</td>\n",
    "</tr>\n",
    "    \n",
    "    \n",
    "</table>"
   ]
  },
  {
   "cell_type": "code",
   "execution_count": null,
   "id": "3334694e",
   "metadata": {},
   "outputs": [],
   "source": []
  }
 ],
 "metadata": {
  "kernelspec": {
   "display_name": "Python 3 (ipykernel)",
   "language": "python",
   "name": "python3"
  },
  "language_info": {
   "codemirror_mode": {
    "name": "ipython",
    "version": 3
   },
   "file_extension": ".py",
   "mimetype": "text/x-python",
   "name": "python",
   "nbconvert_exporter": "python",
   "pygments_lexer": "ipython3",
   "version": "3.9.7"
  }
 },
 "nbformat": 4,
 "nbformat_minor": 5
}
