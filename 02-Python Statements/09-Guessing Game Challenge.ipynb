{
 "cells": [
  {
   "cell_type": "markdown",
   "metadata": {},
   "source": [
    "___\n",
    "\n",
    "<a href='https://www.udemy.com/user/joseportilla/'><img src='../Pierian_Data_Logo.png'/></a>\n",
    "___\n",
    "<center><em>Content Copyright by Pierian Data</em></center>"
   ]
  },
  {
   "cell_type": "markdown",
   "metadata": {},
   "source": [
    "# Guessing Game Challenge\n",
    "\n",
    "Let's use `while` loops to create a guessing game.\n",
    "\n",
    "The Challenge:\n",
    "\n",
    "Write a program that picks a random integer from 1 to 100, and has players guess the number. The rules are:\n",
    "\n",
    "1. If a player's guess is less than 1 or greater than 100, say \"OUT OF BOUNDS\"\n",
    "2. On a player's first turn, if their guess is\n",
    " * within 10 of the number, return \"WARM!\"\n",
    " * further than 10 away from the number, return \"COLD!\"\n",
    "3. On all subsequent turns, if a guess is \n",
    " * closer to the number than the previous guess return \"WARMER!\"\n",
    " * farther from the number than the previous guess, return \"COLDER!\"\n",
    "4. When the player's guess equals the number, tell them they've guessed correctly *and* how many guesses it took!\n",
    "\n",
    "You can try this from scratch, or follow the steps outlined below. A separate Solution notebook has been provided. Good luck!\n"
   ]
  },
  {
   "cell_type": "markdown",
   "metadata": {},
   "source": [
    "#### First, pick a random integer from 1 to 100 using the random module and assign it to a variable\n",
    "\n",
    "Note: `random.randint(a,b)` returns a random integer in range `[a, b]`, including both end points."
   ]
  },
  {
   "cell_type": "code",
   "execution_count": 9,
   "metadata": {},
   "outputs": [
    {
     "name": "stdout",
     "output_type": "stream",
     "text": [
      "11\n"
     ]
    }
   ],
   "source": [
    "import random\n",
    "number=random.randint(1,100)\n",
    "print(number)"
   ]
  },
  {
   "cell_type": "markdown",
   "metadata": {},
   "source": [
    "#### Next, print an introduction to the game and explain the rules"
   ]
  },
  {
   "cell_type": "code",
   "execution_count": 10,
   "metadata": {},
   "outputs": [
    {
     "name": "stdout",
     "output_type": "stream",
     "text": [
      "Guess a number from 1 to 100 and see how many tries it takes you\n",
      "You wil be guided along the way\n",
      "If your guess is within 10, I'll tell you 'WARM', otherwise, I'll say 'COLD'\n"
     ]
    }
   ],
   "source": [
    "print('Guess a number from 1 to 100 and see how many tries it takes you')\n",
    "print('You wil be guided along the way')\n",
    "print(\"If your guess is within 10, I'll tell you 'WARM', otherwise, I'll say 'COLD'\")"
   ]
  },
  {
   "cell_type": "markdown",
   "metadata": {},
   "source": [
    "#### Create a list to store guesses\n",
    "\n",
    "Hint: zero is a good placeholder value. It's useful because it evaluates to \"False\""
   ]
  },
  {
   "cell_type": "code",
   "execution_count": 11,
   "metadata": {},
   "outputs": [],
   "source": [
    "guess=0\n",
    "guesses=0"
   ]
  },
  {
   "cell_type": "markdown",
   "metadata": {},
   "source": [
    "#### Write a `while` loop that asks for a valid guess. Test it a few times to make sure it works."
   ]
  },
  {
   "cell_type": "code",
   "execution_count": 13,
   "metadata": {},
   "outputs": [
    {
     "name": "stdout",
     "output_type": "stream",
     "text": [
      "What is your guess?  11\n"
     ]
    }
   ],
   "source": [
    "while guess != number:\n",
    "    guess=int(input(\"What is your guess?  \"))"
   ]
  },
  {
   "cell_type": "markdown",
   "metadata": {},
   "source": [
    "#### Write a `while` loop that compares the player's guess to our number. If the player guesses correctly, break from the loop. Otherwise, tell the player if they're warmer or colder, and continue asking for guesses.\n",
    "\n",
    "Some hints:\n",
    "* it may help to sketch out all possible combinations on paper first!\n",
    "* you can use the `abs()` function to find the positive difference between two numbers\n",
    "* if you append all new guesses to the list, then the previous guess is given as `guesses[-2]`"
   ]
  },
  {
   "cell_type": "code",
   "execution_count": 3,
   "metadata": {},
   "outputs": [
    {
     "name": "stdout",
     "output_type": "stream",
     "text": [
      "Guess a number from 1 to 100 and see how many tries it takes you\n",
      "You wil be guided along the way\n",
      "If your guess is within 10, I'll tell you 'WARM', otherwise, I'll say 'COLD'\n",
      "What is your guess?  70\n",
      "COLD\n",
      "What is your guess?  300\n",
      "OUT OF BOUNDS\n",
      "What is your guess?  80\n",
      "COLD\n",
      "What is your guess?  81\n",
      "Colder\n",
      "What is your guess?  83\n",
      "Colder\n",
      "What is your guess?  83\n",
      "You guessed the same number!\n",
      "What is your guess?  89\n",
      "Colder\n",
      "What is your guess?  37\n",
      "Warmer\n",
      "What is your guess?  12\n",
      "Warmer\n",
      "What is your guess?  4\n",
      "Colder\n",
      "What is your guess?  7\n",
      "Warmer\n",
      "What is your guess?  8\n",
      "Warmer\n",
      "What is your guess?  9\n",
      "Warmer\n",
      "What is your guess?  10\n",
      "You won! The correct answer was 10.\n",
      "This took you 14 tries!\n"
     ]
    }
   ],
   "source": [
    "import random\n",
    "number=random.randint(1,100)\n",
    "print('Guess a number from 1 to 100 and see how many tries it takes you')\n",
    "print('You wil be guided along the way')\n",
    "print(\"If your guess is within 10, I'll tell you 'WARM', otherwise, I'll say 'COLD'\")\n",
    "#print(number)\n",
    "guess=0\n",
    "guesses=0\n",
    "dif_last=0\n",
    "while guess != number:\n",
    "    guess=int(input(\"What is your guess?  \"))\n",
    "    dif=number-guess\n",
    "    if guess<1 or guess>100:\n",
    "        print('OUT OF BOUNDS')\n",
    "        dif=0\n",
    "        dif_last=0\n",
    "    elif dif==0:\n",
    "        print(f'You won! The correct answer was {number}.')\n",
    "    elif abs(dif)<=10 and dif_last==0:\n",
    "        print('WARM')\n",
    "    elif abs(dif)>10 and dif_last==0:\n",
    "        print('COLD')\n",
    "    elif dif==dif_last:\n",
    "        print('You guessed the same number!')\n",
    "    elif abs(dif)<abs(dif_last):\n",
    "        print(\"Warmer\")\n",
    "    elif abs(dif)>abs(dif_last):\n",
    "        print(\"Colder\")\n",
    "    else:\n",
    "        print(\"Same Temp\")\n",
    "    guesses+=1  \n",
    "    dif_last=dif\n",
    "print(f'This took you {guesses} tries!')\n",
    "        \n",
    "    "
   ]
  },
  {
   "cell_type": "code",
   "execution_count": null,
   "metadata": {},
   "outputs": [],
   "source": [
    "print(abs(-5))"
   ]
  },
  {
   "cell_type": "markdown",
   "metadata": {},
   "source": [
    "That's it! You've just programmed your first game!\n",
    "\n",
    "In the next section we'll learn how to turn some of these repetitive actions into *functions* that can be called whenever we need them."
   ]
  },
  {
   "cell_type": "markdown",
   "metadata": {},
   "source": [
    "### Good Job!"
   ]
  }
 ],
 "metadata": {
  "kernelspec": {
   "display_name": "Python 3 (ipykernel)",
   "language": "python",
   "name": "python3"
  },
  "language_info": {
   "codemirror_mode": {
    "name": "ipython",
    "version": 3
   },
   "file_extension": ".py",
   "mimetype": "text/x-python",
   "name": "python",
   "nbconvert_exporter": "python",
   "pygments_lexer": "ipython3",
   "version": "3.9.7"
  }
 },
 "nbformat": 4,
 "nbformat_minor": 2
}
