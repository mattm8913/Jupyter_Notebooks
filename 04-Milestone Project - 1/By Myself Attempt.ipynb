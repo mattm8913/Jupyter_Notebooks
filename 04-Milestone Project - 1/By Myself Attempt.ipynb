{
 "cells": [
  {
   "cell_type": "code",
   "execution_count": 1,
   "id": "4564691c",
   "metadata": {},
   "outputs": [],
   "source": [
    "from IPython.display import clear_output\n",
    "\n",
    "board = [' ',' ',' ',' ',' ',' ',' ',' ',' ']\n",
    "positions_left={'1':1,'2':2,'3':3,'4':4,'5':5,'6':6,'7':7,'8':8,'9':9,}"
   ]
  },
  {
   "cell_type": "code",
   "execution_count": 2,
   "id": "059f69c2",
   "metadata": {},
   "outputs": [
    {
     "data": {
      "text/plain": [
       "9"
      ]
     },
     "execution_count": 2,
     "metadata": {},
     "output_type": "execute_result"
    }
   ],
   "source": [
    "len(positions_left.keys())"
   ]
  },
  {
   "cell_type": "code",
   "execution_count": 3,
   "id": "bcf4a062",
   "metadata": {},
   "outputs": [],
   "source": [
    "def display_board(board):\n",
    "\n",
    "    # prints the board (uses numpad position mapped to index)\n",
    "    # (so index 0-8 mapped to numpad 1-9)\n",
    "    print(f\" {board[6]} | {board[7]} | {board[8]} \")\n",
    "    print(\"___________\")\n",
    "    print(f\" {board[3]} | {board[4]} | {board[5]} \")\n",
    "    print(\"___________\")\n",
    "    print(f\" {board[0]} | {board[1]} | {board[2]} \")"
   ]
  },
  {
   "cell_type": "code",
   "execution_count": 4,
   "id": "94174a94",
   "metadata": {},
   "outputs": [
    {
     "name": "stdout",
     "output_type": "stream",
     "text": [
      "   |   |   \n",
      "___________\n",
      "   |   |   \n",
      "___________\n",
      "   |   |   \n"
     ]
    }
   ],
   "source": [
    "display_board(board)"
   ]
  },
  {
   "cell_type": "code",
   "execution_count": 5,
   "id": "a3a4d133",
   "metadata": {},
   "outputs": [],
   "source": [
    "def choose_position(positions_left):\n",
    "\n",
    "    position = 'NOT VALID'\n",
    "    within_range = False\n",
    "    acceptable_range = range(1,10)\n",
    "\n",
    "    while position.isdigit() == False or within_range == False: #must be both to break loop\n",
    "        position = input(\"Choose a position on the board (1-9): \")\n",
    "        if position.isdigit() == False:\n",
    "            print(\"{} is not a valid digit (1-9)\".format(position))\n",
    "        else:\n",
    "            if int(position) in acceptable_range:\n",
    "                if position in positions_left.keys():\n",
    "                    within_range = True\n",
    "                    positions_left.pop(position)\n",
    "                else:\n",
    "                    print(\"That spot is already taken!\")\n",
    "            else:\n",
    "                print(\"{} is not a valid position (1-9)\".format(position))\n",
    "    return (int(position),positions_left)"
   ]
  },
  {
   "cell_type": "code",
   "execution_count": 6,
   "id": "54fee249",
   "metadata": {},
   "outputs": [
    {
     "name": "stdout",
     "output_type": "stream",
     "text": [
      "Choose a position on the board (1-9): \n",
      " is not a valid digit (1-9)\n",
      "Choose a position on the board (1-9): \n",
      " is not a valid digit (1-9)\n",
      "Choose a position on the board (1-9): \n",
      " is not a valid digit (1-9)\n",
      "Choose a position on the board (1-9): \n",
      " is not a valid digit (1-9)\n",
      "Choose a position on the board (1-9): 8\n"
     ]
    }
   ],
   "source": [
    "(position,positions_left)=choose_position(positions_left)"
   ]
  },
  {
   "cell_type": "code",
   "execution_count": 7,
   "id": "b6cccee1",
   "metadata": {},
   "outputs": [
    {
     "name": "stdout",
     "output_type": "stream",
     "text": [
      "8\n",
      "{'1': 1, '2': 2, '3': 3, '4': 4, '5': 5, '6': 6, '7': 7, '9': 9}\n"
     ]
    }
   ],
   "source": [
    "print(position)\n",
    "print(positions_left)"
   ]
  },
  {
   "cell_type": "code",
   "execution_count": 26,
   "id": "5c18e3ee",
   "metadata": {},
   "outputs": [],
   "source": [
    "def did_someone_win(board,positions_left):\n",
    "\n",
    "    win=False\n",
    "    tie=True\n",
    "    # NumPad\n",
    "    # 7 8 9\n",
    "    # 4 5 6\n",
    "    # 1 2 3\n",
    "\n",
    "    # Mapped\n",
    "    # 6 7 8\n",
    "    # 3 4 5\n",
    "    # 0 1 2\n",
    "\n",
    "    pos_wins=[[6,7,8],[3,4,5],[0,1,2],[6,3,0],[7,4,1],[8,5,2],[6,4,2],[0,4,8]]\n",
    "\n",
    "    # check for a win\n",
    "    for pos_win in pos_wins:\n",
    "        check=board[pos_win[0]]+board[pos_win[1]]+board[pos_win[2]]\n",
    "        if check == 'XXX' or check == 'OOO':\n",
    "            win=True\n",
    "            clear_output()\n",
    "            display_board(board)\n",
    "            print(\"Congratulations!  You have won the game!\")\n",
    "\n",
    "    # check for a tie\n",
    "    for pos in board:\n",
    "        if pos == ' ':\n",
    "            tie = False\n",
    "\n",
    "    # other method\n",
    "    if len(positions_left.keys())!=0:\n",
    "        tie=False\n",
    "    \n",
    "    if tie and win==False:\n",
    "        clear_output()\n",
    "        display_board(board)\n",
    "        print(\"The game is a tie!\")\n",
    "    \n",
    "    return (win, tie)\n"
   ]
  },
  {
   "cell_type": "code",
   "execution_count": 16,
   "id": "74c93aa2",
   "metadata": {},
   "outputs": [],
   "source": [
    "def play_again():\n",
    "    correct_input=False\n",
    "\n",
    "    while correct_input==False:\n",
    "        again=input(\"Do you want to play again? (y/n): \")\n",
    "        if again=='n':\n",
    "                correct_input=True\n",
    "                return False\n",
    "        elif again=='y':\n",
    "                correct_input=True\n",
    "                return True\n",
    "        else:\n",
    "                print(f\"{again} is not a valid answer\")"
   ]
  },
  {
   "cell_type": "code",
   "execution_count": 17,
   "id": "27f8b929",
   "metadata": {},
   "outputs": [
    {
     "name": "stdout",
     "output_type": "stream",
     "text": [
      "Do you want to play again? (y/n): n\n"
     ]
    },
    {
     "data": {
      "text/plain": [
       "False"
      ]
     },
     "execution_count": 17,
     "metadata": {},
     "output_type": "execute_result"
    }
   ],
   "source": [
    "play_again()"
   ]
  },
  {
   "cell_type": "code",
   "execution_count": 18,
   "id": "4ee4f82b",
   "metadata": {},
   "outputs": [],
   "source": [
    "def get_letter():\n",
    "    correct_input=False\n",
    "\n",
    "    while correct_input==False:\n",
    "        player1=input(\"Player 1, which letter do you want to be? (x/o): \")\n",
    "        if player1=='x':\n",
    "            correct_input=True\n",
    "            player1='X'\n",
    "            player2='O'\n",
    "        elif player1=='o':\n",
    "            correct_input=True\n",
    "            player1='O'\n",
    "            player2='X'\n",
    "        else:\n",
    "            print(f\"{player1} is not a valid answer\")\n",
    "    print(\"Player 1 will be {}\".format(player1))\n",
    "    return (player1,player2)"
   ]
  },
  {
   "cell_type": "code",
   "execution_count": 19,
   "id": "13fa816f",
   "metadata": {},
   "outputs": [],
   "source": [
    "def update_board(board,position,turn,player1,player2):\n",
    "    board[position-1]=turn\n",
    "    return (board,turn)\n"
   ]
  },
  {
   "cell_type": "code",
   "execution_count": 20,
   "id": "12d2352d",
   "metadata": {},
   "outputs": [],
   "source": [
    "def play_ttt():\n",
    "\n",
    "    from IPython.display import clear_output\n",
    "    again=True \n",
    "    \n",
    "    while again==True:\n",
    "        # Restart game\n",
    "        board = [' ',' ',' ',' ',' ',' ',' ',' ',' ']\n",
    "        positions_left={'1':1,'2':2,'3':3,'4':4,'5':5,'6':6,'7':7,'8':8,'9':9,}\n",
    "\n",
    "        win=False\n",
    "        tie=False\n",
    "        again=True\n",
    "\n",
    "        (player1,player2)=get_letter()\n",
    "        turn=player1\n",
    "        display_board(board)\n",
    "\n",
    "        while win==False and tie==False:\n",
    "            clear_output()\n",
    "            display_board(board)\n",
    "            (position,positions_left)=choose_position(positions_left)\n",
    "            (board,turn)=update_board(board,position,turn,player1,player2)\n",
    "            (win, tie)=did_someone_win(board,positions_left)\n",
    "            if turn == player1:\n",
    "                turn = player2\n",
    "            else:\n",
    "                turn = player1\n",
    "        else:\n",
    "            again=play_again()"
   ]
  },
  {
   "cell_type": "code",
   "execution_count": null,
   "id": "cbe05952",
   "metadata": {},
   "outputs": [
    {
     "name": "stdout",
     "output_type": "stream",
     "text": [
      " X | O | X \n",
      "___________\n",
      " O | O | X \n",
      "___________\n",
      " O | X | O \n",
      "The game is a tie!\n"
     ]
    }
   ],
   "source": [
    "play_ttt()"
   ]
  },
  {
   "cell_type": "code",
   "execution_count": null,
   "id": "e6f524d4",
   "metadata": {},
   "outputs": [],
   "source": []
  }
 ],
 "metadata": {
  "kernelspec": {
   "display_name": "Python 3 (ipykernel)",
   "language": "python",
   "name": "python3"
  },
  "language_info": {
   "codemirror_mode": {
    "name": "ipython",
    "version": 3
   },
   "file_extension": ".py",
   "mimetype": "text/x-python",
   "name": "python",
   "nbconvert_exporter": "python",
   "pygments_lexer": "ipython3",
   "version": "3.9.7"
  }
 },
 "nbformat": 4,
 "nbformat_minor": 5
}
