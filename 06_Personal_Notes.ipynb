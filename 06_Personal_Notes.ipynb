{
 "cells": [
  {
   "cell_type": "markdown",
   "id": "210bb161",
   "metadata": {},
   "source": [
    "make sure on the command line, you are in the correct directory (see course 2 notes .txt file for navigation tips)\n",
    "put all scripts and programs in .py files\n"
   ]
  },
  {
   "cell_type": "code",
   "execution_count": 1,
   "id": "55f0c3a0",
   "metadata": {},
   "outputs": [
    {
     "data": {
      "text/plain": [
       "\" in myprogram.py\\nfrom mymodule import my_func  #don't need to include .py after mymodule\\n\\nmy_func()\\n\""
      ]
     },
     "execution_count": 1,
     "metadata": {},
     "output_type": "execute_result"
    }
   ],
   "source": [
    "# in mymodule.py\n",
    "def my_func():\n",
    "    print(\"Hey I am in mymodule.py\")\n",
    "\n",
    "\"\"\" in myprogram.py\n",
    "from mymodule import my_func  #don't need to include .py after mymodule\n",
    "\n",
    "my_func()\n",
    "\"\"\""
   ]
  },
  {
   "cell_type": "markdown",
   "id": "efb4a435",
   "metadata": {},
   "source": [
    "# Using packages and sub packages\n",
    "within the curernt directory on the command line, I have a folder called \"MyMainPackage\" and a folder within that folder called \"SubPackage\".  Each one of those, IOT be recognized as a package by python, needs to have a file (can be emmpty) called \"__init__.py\".  Within the sub folder, I have mysubscript.py ; and in the Main package folder, I have some_main_script.py .  The file myprogram.py resides in the current directory.\n"
   ]
  },
  {
   "cell_type": "code",
   "execution_count": null,
   "id": "00eb751e",
   "metadata": {},
   "outputs": [],
   "source": [
    "# mysubscript.py\n",
    "def sub_report():\n",
    "    print(\"Hey, I'm a function inside mysubscript.\")\n",
    "\n",
    "# some_main_script.py    \n",
    "def report_main():\n",
    "    print(\"Hey, I am in some_main_script in main package.\")\n",
    "\n",
    "from MyMainPackage.SubPackage import mysubscript # NOTE you must still reference the MyMainPackage \n",
    "                                                # first, even though you are in the subfolder\n",
    "\n",
    "mysubscript.sub_report()\n",
    "\n",
    "# myprogram.py\n",
    "from MyMainPackage import some_main_script\n",
    "from MyMainPackage.SubPackage import mysubscript\n",
    "\n",
    "some_main_script.report_main()\n",
    "\n",
    "mysubscript.sub_report()\n",
    "\n",
    "# from command line, run \"python myprogram.py\""
   ]
  },
  {
   "cell_type": "markdown",
   "id": "36aed6c2",
   "metadata": {},
   "source": [
    "# Printing All Items"
   ]
  },
  {
   "cell_type": "code",
   "execution_count": 1,
   "id": "636c47b3",
   "metadata": {},
   "outputs": [
    {
     "name": "stdout",
     "output_type": "stream",
     "text": [
      "1\n",
      "2\n",
      "3\n",
      "4\n",
      "5\n"
     ]
    }
   ],
   "source": [
    "items = [1,2,3,4,5]\n",
    "print(*items, sep='\\n')"
   ]
  },
  {
   "cell_type": "code",
   "execution_count": 4,
   "id": "dbbf1a90",
   "metadata": {},
   "outputs": [
    {
     "name": "stdout",
     "output_type": "stream",
     "text": [
      "My Items are: \n",
      "1\n",
      "2\n",
      "3\n",
      "4\n",
      "5\n"
     ]
    }
   ],
   "source": [
    "items = [1,2,3,4,5]\n",
    "print(\"My Items are: \",*items, sep='\\n')"
   ]
  },
  {
   "cell_type": "markdown",
   "id": "35bcbae8",
   "metadata": {},
   "source": [
    "# Generators"
   ]
  },
  {
   "cell_type": "code",
   "execution_count": 1,
   "id": "ce9b776c",
   "metadata": {},
   "outputs": [
    {
     "name": "stdout",
     "output_type": "stream",
     "text": [
      "0\n",
      "1\n",
      "8\n",
      "27\n",
      "64\n",
      "125\n",
      "216\n",
      "343\n",
      "512\n",
      "729\n"
     ]
    }
   ],
   "source": [
    "def create_cubes(n):\n",
    "    result = []\n",
    "    for x in range(n):\n",
    "        result.append(x**3)\n",
    "    return result\n",
    "\n",
    "for x in create_cubes(10):\n",
    "    print(x)"
   ]
  },
  {
   "cell_type": "code",
   "execution_count": null,
   "id": "e717cfeb",
   "metadata": {},
   "outputs": [],
   "source": [
    "def create_cubes(n):\n",
    "    for x in range(n):\n",
    "        yield x**3\n",
    "\n",
    "for x in create_cubes(10):\n",
    "    print(x)"
   ]
  }
 ],
 "metadata": {
  "kernelspec": {
   "display_name": "Python 3 (ipykernel)",
   "language": "python",
   "name": "python3"
  },
  "language_info": {
   "codemirror_mode": {
    "name": "ipython",
    "version": 3
   },
   "file_extension": ".py",
   "mimetype": "text/x-python",
   "name": "python",
   "nbconvert_exporter": "python",
   "pygments_lexer": "ipython3",
   "version": "3.9.7"
  }
 },
 "nbformat": 4,
 "nbformat_minor": 5
}
