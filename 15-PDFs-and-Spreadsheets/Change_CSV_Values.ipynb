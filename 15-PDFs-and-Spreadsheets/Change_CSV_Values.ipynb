{
 "cells": [
  {
   "cell_type": "code",
   "execution_count": 2,
   "id": "cc882f5f",
   "metadata": {},
   "outputs": [],
   "source": [
    "import csv"
   ]
  },
  {
   "cell_type": "code",
   "execution_count": 42,
   "id": "5d5485ec",
   "metadata": {},
   "outputs": [],
   "source": [
    "file_to_open = open('save_to_file.csv',mode='w',newline='')"
   ]
  },
  {
   "cell_type": "code",
   "execution_count": 43,
   "id": "c940abd0",
   "metadata": {},
   "outputs": [],
   "source": [
    "csv_writer = csv.writer(file_to_open,delimiter=',')"
   ]
  },
  {
   "cell_type": "code",
   "execution_count": 44,
   "id": "e76f5739",
   "metadata": {},
   "outputs": [
    {
     "data": {
      "text/plain": [
       "9"
      ]
     },
     "execution_count": 44,
     "metadata": {},
     "output_type": "execute_result"
    }
   ],
   "source": [
    "csv_writer.writerow(['1','2','3','4'])"
   ]
  },
  {
   "cell_type": "code",
   "execution_count": 45,
   "id": "5239cce8",
   "metadata": {},
   "outputs": [
    {
     "data": {
      "text/plain": [
       "9"
      ]
     },
     "execution_count": 45,
     "metadata": {},
     "output_type": "execute_result"
    }
   ],
   "source": [
    "csv_writer.writerow(['a','a','a','a'])"
   ]
  },
  {
   "cell_type": "code",
   "execution_count": 46,
   "id": "0374516e",
   "metadata": {},
   "outputs": [],
   "source": [
    "file_to_open.close()"
   ]
  },
  {
   "cell_type": "markdown",
   "id": "2c8e9503",
   "metadata": {},
   "source": [
    "The above worked, so clearing a fileand adding to it works."
   ]
  },
  {
   "cell_type": "code",
   "execution_count": 56,
   "id": "bf077864",
   "metadata": {},
   "outputs": [],
   "source": [
    "file_to_open = open('save_to_file.csv',mode='r+',newline='',encoding='utf-8')"
   ]
  },
  {
   "cell_type": "code",
   "execution_count": 57,
   "id": "b36ec9eb",
   "metadata": {},
   "outputs": [],
   "source": [
    "csv_reader = csv.reader(file_to_open,delimiter=',')"
   ]
  },
  {
   "cell_type": "code",
   "execution_count": 58,
   "id": "573e05f3",
   "metadata": {},
   "outputs": [],
   "source": [
    "shay = list(csv_reader)"
   ]
  },
  {
   "cell_type": "code",
   "execution_count": 59,
   "id": "7ef38c7a",
   "metadata": {},
   "outputs": [
    {
     "data": {
      "text/plain": [
       "[['1', '2', '3', '4'], ['a', 'a', 'a', 'a'], ['c', 'c', 'c', 'c']]"
      ]
     },
     "execution_count": 59,
     "metadata": {},
     "output_type": "execute_result"
    }
   ],
   "source": [
    "shay"
   ]
  },
  {
   "cell_type": "code",
   "execution_count": 51,
   "id": "37ec5953",
   "metadata": {},
   "outputs": [],
   "source": [
    "csv_writer = csv.writer(file_to_open,delimiter=',')"
   ]
  },
  {
   "cell_type": "code",
   "execution_count": 52,
   "id": "14480de5",
   "metadata": {},
   "outputs": [
    {
     "data": {
      "text/plain": [
       "9"
      ]
     },
     "execution_count": 52,
     "metadata": {},
     "output_type": "execute_result"
    }
   ],
   "source": [
    "csv_writer.writerow(['c','c','c','c'])"
   ]
  },
  {
   "cell_type": "code",
   "execution_count": 53,
   "id": "44eb903e",
   "metadata": {},
   "outputs": [],
   "source": [
    "csv_reader = csv.reader(file_to_open,delimiter=',')"
   ]
  },
  {
   "cell_type": "code",
   "execution_count": 54,
   "id": "90215df6",
   "metadata": {},
   "outputs": [
    {
     "data": {
      "text/plain": [
       "[]"
      ]
     },
     "execution_count": 54,
     "metadata": {},
     "output_type": "execute_result"
    }
   ],
   "source": [
    "list(csv_reader)"
   ]
  },
  {
   "cell_type": "code",
   "execution_count": 55,
   "id": "e2bdc6c9",
   "metadata": {},
   "outputs": [],
   "source": [
    "file_to_open.close()"
   ]
  },
  {
   "cell_type": "markdown",
   "id": "30dc8745",
   "metadata": {},
   "source": [
    "running the reader twice doesn't return anything; the file has to be closed and opened again"
   ]
  },
  {
   "cell_type": "markdown",
   "id": "46265e23",
   "metadata": {},
   "source": [
    "# Must alter and then save to another csv"
   ]
  },
  {
   "cell_type": "code",
   "execution_count": 60,
   "id": "1d938c41",
   "metadata": {},
   "outputs": [],
   "source": [
    "shay[2][3] = 'b'"
   ]
  },
  {
   "cell_type": "code",
   "execution_count": 61,
   "id": "31be1dc3",
   "metadata": {},
   "outputs": [
    {
     "data": {
      "text/plain": [
       "[['1', '2', '3', '4'], ['a', 'a', 'a', 'a'], ['c', 'c', 'c', 'b']]"
      ]
     },
     "execution_count": 61,
     "metadata": {},
     "output_type": "execute_result"
    }
   ],
   "source": [
    "shay"
   ]
  },
  {
   "cell_type": "code",
   "execution_count": 62,
   "id": "33657dd5",
   "metadata": {},
   "outputs": [
    {
     "data": {
      "text/plain": [
       "['a', 'a', 'a', 'a']"
      ]
     },
     "execution_count": 62,
     "metadata": {},
     "output_type": "execute_result"
    }
   ],
   "source": [
    "shay[1]"
   ]
  },
  {
   "cell_type": "code",
   "execution_count": 63,
   "id": "636e7dc6",
   "metadata": {},
   "outputs": [
    {
     "data": {
      "text/plain": [
       "['c', 'c', 'c', 'b']"
      ]
     },
     "execution_count": 63,
     "metadata": {},
     "output_type": "execute_result"
    }
   ],
   "source": [
    "shay[2]"
   ]
  },
  {
   "cell_type": "code",
   "execution_count": 65,
   "id": "90e440d7",
   "metadata": {},
   "outputs": [],
   "source": [
    "shay[1][2] = 'd'"
   ]
  },
  {
   "cell_type": "code",
   "execution_count": 66,
   "id": "8a90a8f8",
   "metadata": {},
   "outputs": [
    {
     "data": {
      "text/plain": [
       "[['1', '2', '3', '4'], ['a', 'a', 'd', 'a'], ['c', 'c', 'c', 'b']]"
      ]
     },
     "execution_count": 66,
     "metadata": {},
     "output_type": "execute_result"
    }
   ],
   "source": [
    "shay"
   ]
  },
  {
   "cell_type": "code",
   "execution_count": 68,
   "id": "dcfc85c5",
   "metadata": {},
   "outputs": [],
   "source": [
    "file_to_open2 = open('save_to_file2.csv',mode='w',newline='')\n",
    "csv_writer = csv.writer(file_to_open2,delimiter=',')\n",
    "csv_writer.writerows([shay[0],shay[1],shay[2]])\n",
    "file_to_open2.close()"
   ]
  },
  {
   "cell_type": "code",
   "execution_count": null,
   "id": "612eb7bd",
   "metadata": {},
   "outputs": [],
   "source": []
  }
 ],
 "metadata": {
  "kernelspec": {
   "display_name": "Python 3 (ipykernel)",
   "language": "python",
   "name": "python3"
  },
  "language_info": {
   "codemirror_mode": {
    "name": "ipython",
    "version": 3
   },
   "file_extension": ".py",
   "mimetype": "text/x-python",
   "name": "python",
   "nbconvert_exporter": "python",
   "pygments_lexer": "ipython3",
   "version": "3.9.7"
  }
 },
 "nbformat": 4,
 "nbformat_minor": 5
}
