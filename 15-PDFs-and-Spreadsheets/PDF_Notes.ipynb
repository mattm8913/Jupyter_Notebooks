{
 "cells": [
  {
   "cell_type": "code",
   "execution_count": 1,
   "id": "9df20674",
   "metadata": {},
   "outputs": [],
   "source": [
    "import PyPDF2"
   ]
  },
  {
   "cell_type": "code",
   "execution_count": 2,
   "id": "110a6be3",
   "metadata": {},
   "outputs": [],
   "source": [
    "f = open('Working_Business_Proposal.pdf','rb') # read in binary"
   ]
  },
  {
   "cell_type": "code",
   "execution_count": 5,
   "id": "cadc1dfa",
   "metadata": {},
   "outputs": [],
   "source": [
    "pdf_reader = PyPDF2.PdfFileReader(f)"
   ]
  },
  {
   "cell_type": "code",
   "execution_count": 6,
   "id": "d48aa215",
   "metadata": {},
   "outputs": [
    {
     "data": {
      "text/plain": [
       "5"
      ]
     },
     "execution_count": 6,
     "metadata": {},
     "output_type": "execute_result"
    }
   ],
   "source": [
    "pdf_reader.numPages"
   ]
  },
  {
   "cell_type": "code",
   "execution_count": 7,
   "id": "333a9f0b",
   "metadata": {},
   "outputs": [],
   "source": [
    "page_one = pdf_reader.getPage(0)"
   ]
  },
  {
   "cell_type": "code",
   "execution_count": 8,
   "id": "bb5abb3a",
   "metadata": {},
   "outputs": [],
   "source": [
    "page_one_text = page_one.extractText()"
   ]
  },
  {
   "cell_type": "code",
   "execution_count": 10,
   "id": "95f8beeb",
   "metadata": {},
   "outputs": [
    {
     "data": {
      "text/plain": [
       "'Bus in es s  Propos al\\n \\nThe Revolution is Coming\\n \\nLeverage agile frameworks to provide a robust synopsis for high level \\noverviews. Iterative approaches to corporate strategy foster collaborative \\nthinking to fur ther the overall value proposition. Organically grow the \\nholistic world view of disruptive innovation via workplace diversity and \\nempower ment. \\nBring to the table win-win survival strategies to ensure proactive \\ndomination. At the end of the day, going forward, a new nor mal that has \\nevolved from generation X is on the runway heading towards a streamlined \\ncloud solution. User generated content in real-time will have multiple \\ntouchpoints for offshoring. \\nCapitalize on low hanging fruit to identify a ballpark value added activity to \\nbeta test. Override the digital divide with additional clickthroughs from \\nDevOps. Nanotechnology immersion along the infor mation highway will \\nclose the loop on focusing solely on the bottom line. \\nPodcasting operational change management inside of workßows to \\nestablish a framework. Taking seamless key per for mance indicators ofßine \\nto maximise the long tail. Keeping your eye on the ball while per for ming a \\ndeep dive on the star t-up mentality to derive convergence on cross-\\nplatfor m integration. \\nC o l l a b o r a t i v e l y a d m i n i s t r a t e e m p o w e re d m a r k e t s v i a p l u g - a n d - p l a y \\nnetworks. Dynamically procrastinate B2C users after installed base \\nbeneÞts. Dramatically visualize customer directed convergence without \\nrevolutionar y ROI. \\nEfÞciently unleash cross-media infor mation without cross-media value. \\nQuickly maximize timely deliverables for real-time schemas. Dramatically \\nmaintain clicks-and-mor tar solutions without functional solutions. \\nBUSINESS PROPOSAL\\n!\\n1\\n'"
      ]
     },
     "execution_count": 10,
     "metadata": {},
     "output_type": "execute_result"
    }
   ],
   "source": [
    "page_one_text  # an empty string means the PDF is not compatible with PyPDF2"
   ]
  },
  {
   "cell_type": "code",
   "execution_count": 26,
   "id": "4b4f2e56",
   "metadata": {},
   "outputs": [],
   "source": [
    "f.close()"
   ]
  },
  {
   "cell_type": "markdown",
   "id": "49fe3bd0",
   "metadata": {},
   "source": [
    "Can only add pages to PDFs, cannot write to the middle of an existing PDF page"
   ]
  },
  {
   "cell_type": "code",
   "execution_count": 20,
   "id": "261321c3",
   "metadata": {},
   "outputs": [],
   "source": [
    "f = open('Working_Business_Proposal.pdf','rb')\n",
    "pdf_reader = PyPDF2.PdfFileReader(f)\n",
    "first_page = pdf_reader.getPage(0)"
   ]
  },
  {
   "cell_type": "code",
   "execution_count": 21,
   "id": "bbb23466",
   "metadata": {},
   "outputs": [
    {
     "data": {
      "text/plain": [
       "PyPDF2._page.PageObject"
      ]
     },
     "execution_count": 21,
     "metadata": {},
     "output_type": "execute_result"
    }
   ],
   "source": [
    "pdf_writer = PyPDF2.PdfFileWriter()\n",
    "type(first_page)  # needs to be in a special format to use the writer; cannot be a regular python string"
   ]
  },
  {
   "cell_type": "code",
   "execution_count": 22,
   "id": "bf7feede",
   "metadata": {},
   "outputs": [],
   "source": [
    "pdf_writer.addPage(first_page) # adding pages TO this writer object"
   ]
  },
  {
   "cell_type": "code",
   "execution_count": 23,
   "id": "d7ce11b0",
   "metadata": {},
   "outputs": [],
   "source": [
    "pdf_output = open(\"Some_Brand_New_Doc.pdf\",'wb') # create new file to which to output"
   ]
  },
  {
   "cell_type": "code",
   "execution_count": 24,
   "id": "47360f84",
   "metadata": {},
   "outputs": [],
   "source": [
    "pdf_writer.write(pdf_output)"
   ]
  },
  {
   "cell_type": "code",
   "execution_count": 27,
   "id": "4ab7395c",
   "metadata": {},
   "outputs": [],
   "source": [
    "f.close()"
   ]
  },
  {
   "cell_type": "code",
   "execution_count": 28,
   "id": "8fff57a8",
   "metadata": {},
   "outputs": [],
   "source": [
    "pdf_output.close()"
   ]
  },
  {
   "cell_type": "markdown",
   "id": "78e07cc5",
   "metadata": {},
   "source": [
    "# Getting All Text from a PDF"
   ]
  },
  {
   "cell_type": "code",
   "execution_count": 29,
   "id": "9b51fa50",
   "metadata": {},
   "outputs": [],
   "source": [
    "f = open('Working_Business_Proposal.pdf','rb')\n",
    "\n",
    "pdf_text = []\n",
    "pdf_reader = PyPDF2.PdfFileReader(f)\n",
    "\n",
    "for num in range(pdf_reader.numPages):\n",
    "    page = pdf_reader.getPage(num)\n",
    "    pdf_text.append(page.extractText())\n"
   ]
  },
  {
   "cell_type": "code",
   "execution_count": 34,
   "id": "fc61b292",
   "metadata": {},
   "outputs": [
    {
     "name": "stdout",
     "output_type": "stream",
     "text": [
      "Bus in es s  Propos al\n",
      " \n",
      "The Revolution is Coming\n",
      " \n",
      "Leverage agile frameworks to provide a robust synopsis for high level \n",
      "overviews. Iterative approaches to corporate strategy foster collaborative \n",
      "thinking to fur ther the overall value proposition. Organically grow the \n",
      "holistic world view of disruptive innovation via workplace diversity and \n",
      "empower ment. \n",
      "Bring to the table win-win survival strategies to ensure proactive \n",
      "domination. At the end of the day, going forward, a new nor mal that has \n",
      "evolved from generation X is on the runway heading towards a streamlined \n",
      "cloud solution. User generated content in real-time will have multiple \n",
      "touchpoints for offshoring. \n",
      "Capitalize on low hanging fruit to identify a ballpark value added activity to \n",
      "beta test. Override the digital divide with additional clickthroughs from \n",
      "DevOps. Nanotechnology immersion along the infor mation highway will \n",
      "close the loop on focusing solely on the bottom line. \n",
      "Podcasting operational change management inside of workßows to \n",
      "establish a framework. Taking seamless key per for mance indicators ofßine \n",
      "to maximise the long tail. Keeping your eye on the ball while per for ming a \n",
      "deep dive on the star t-up mentality to derive convergence on cross-\n",
      "platfor m integration. \n",
      "C o l l a b o r a t i v e l y a d m i n i s t r a t e e m p o w e re d m a r k e t s v i a p l u g - a n d - p l a y \n",
      "networks. Dynamically procrastinate B2C users after installed base \n",
      "beneÞts. Dramatically visualize customer directed convergence without \n",
      "revolutionar y ROI. \n",
      "EfÞciently unleash cross-media infor mation without cross-media value. \n",
      "Quickly maximize timely deliverables for real-time schemas. Dramatically \n",
      "maintain clicks-and-mor tar solutions without functional solutions. \n",
      "BUSINESS PROPOSAL\n",
      "!\n",
      "1\n",
      "\n"
     ]
    }
   ],
   "source": [
    "print(pdf_text[0])"
   ]
  },
  {
   "cell_type": "code",
   "execution_count": 33,
   "id": "12f4d343",
   "metadata": {},
   "outputs": [
    {
     "data": {
      "text/plain": [
       "'Completely synergize resource taxing relationships via premier niche \\nmarkets. Professionally cultivate one-to-one customer service with robust \\nideas. Dynamically innovate resource-leveling customer service for state of \\nthe ar t customer service. \\nObjectively innovate empowered manufactured products whereas parallel \\nplatfor ms. Holisticly predominate extensible testing procedures for reliable \\nsupply chains. Dramatically engage top-line web services vis-a-vis \\ncutting-edge deliverables. \\nProactively envisioned multimedia based exper tise and cross-media \\ngrowth strategies. Seamlessly visualize quality intellectual capital without \\nsuperior collaboration and idea-sharing. Holistically pontiÞcate installed \\nbase por tals after maintainable products. \\nPhosßuorescently engage worldwide methodologies with web-enabled \\ntechnology. Interactively coordinate proactive e-commerce via process-\\ncentric \"outside the box\" thinking. Completely pursue scalable customer \\nservice through sustainable potentialities. \\nCollaboratively administrate tur nkey channels whereas vir tual e-tailers. \\nO b j e c t i v e l y s e i z e s c a l a b l e m e t r i c s w h e r e a s p r o a c t i v e e - s e r v i c e s . \\nSeamlessly empower fully researched growth strategies and interoperable \\ninter nal or \"organic\" sources. \\nCredibly innovate granular inter nal or \"organic\" sources whereas high \\ns t a n d a r d s i n w e b - r e a d i n e s s . E n e r g i s t i c a l l y s c a l e f u t u r e - p r o o f c o r e \\ncompetencies vis-a-vis impactful experiences. Dramatically synthesize \\nintegrated schemas with optimal networks. \\nInteractively procrastinate high-payoff content without backward-\\ncompatible data. Quickly cultivate optimal processes and tactical \\narchitectures. Completely iterate covalent strategic theme areas via \\naccurate e-markets. \\nGlobally incubate standards compliant channels before scalable beneÞts. \\nQuickly disseminate superior deliverables whereas web-enabled \\nBUSINESS PROPOSAL\\n!\\n2\\n'"
      ]
     },
     "execution_count": 33,
     "metadata": {},
     "output_type": "execute_result"
    }
   ],
   "source": [
    "pdf_text[1]"
   ]
  },
  {
   "cell_type": "code",
   "execution_count": null,
   "id": "d88936a8",
   "metadata": {},
   "outputs": [],
   "source": []
  }
 ],
 "metadata": {
  "kernelspec": {
   "display_name": "Python 3 (ipykernel)",
   "language": "python",
   "name": "python3"
  },
  "language_info": {
   "codemirror_mode": {
    "name": "ipython",
    "version": 3
   },
   "file_extension": ".py",
   "mimetype": "text/x-python",
   "name": "python",
   "nbconvert_exporter": "python",
   "pygments_lexer": "ipython3",
   "version": "3.9.7"
  }
 },
 "nbformat": 4,
 "nbformat_minor": 5
}
